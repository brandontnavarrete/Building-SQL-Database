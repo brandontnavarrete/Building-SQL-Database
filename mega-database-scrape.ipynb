{
 "cells": [
  {
   "cell_type": "markdown",
   "id": "cb26cfe5",
   "metadata": {},
   "source": [
    "# import"
   ]
  },
  {
   "cell_type": "code",
   "execution_count": 3,
   "id": "c0e44ab0",
   "metadata": {},
   "outputs": [],
   "source": [
    "import pandas as pd \n",
    "import numpy as np\n",
    "\n",
    "# file save\n",
    "import json "
   ]
  },
  {
   "cell_type": "code",
   "execution_count": 4,
   "id": "90ba2cca",
   "metadata": {},
   "outputs": [],
   "source": [
    "# File path to the JSON file\n",
    "file_path = \"pokemonTCG_links.json\"\n",
    "\n",
    "# Open the JSON file and load its contents into a variable\n",
    "with open(file_path, 'r') as file:\n",
    "    links = json.load(file)\n"
   ]
  },
  {
   "cell_type": "code",
   "execution_count": null,
   "id": "7daa9ec6",
   "metadata": {},
   "outputs": [],
   "source": [
    "# create the soup\n",
    "\n",
    "from selenium import webdriver\n",
    "from selenium.webdriver.chrome.service import Service\n",
    "from selenium.webdriver.common.by import By\n",
    "from selenium.webdriver.chrome.options import Options\n",
    "from bs4 import BeautifulSoup\n",
    "\n",
    "# Set up Chrome options\n",
    "chrome_options = Options()\n",
    "chrome_options.add_argument(\"--headless\")  # Run Chrome in headless mode\n",
    "\n",
    "# Set up Chrome driver service\n",
    "service = Service('/path/to/chromedriver')  # Replace with the actual path to chromedriver\n",
    "\n",
    "# Start the Chrome webdriver\n",
    "driver = webdriver.Chrome(service=service, options=chrome_options)\n",
    "\n",
    "# Load the webpage\n",
    "driver.get('https://bulbapedia.bulbagarden.net/wiki/EX_Crystal_Guardians_(TCG)#Set_lists')  # Replace with the actual URL of the webpage\n",
    "\n",
    "# Wait for the page to load (you may need to adjust the waiting time depending on the page)\n",
    "driver.implicitly_wait(10)  # Wait for 10 seconds\n",
    "\n",
    "# Find the table element using the XPath\n",
    "table_element = driver.find_element(By.XPATH, '//*[@id=\"mw-content-text\"]/div/table[4]/tbody/tr/td[1]/table/tbody/tr[2]/td/table')\n",
    "\n",
    "# Get the HTML source of the table element\n",
    "table_html = table_element.get_attribute('innerHTML')\n",
    "\n",
    "# Create a BeautifulSoup object from the HTML source\n",
    "soup = BeautifulSoup(table_html, 'html.parser')\n",
    "\n",
    "# You can now use the 'soup' object to parse and extract data from the table\n",
    "\n",
    "# Close the Chrome webdriver\n",
    "driver.quit()\n"
   ]
  }
 ],
 "metadata": {
  "kernelspec": {
   "display_name": "Python 3 (ipykernel)",
   "language": "python",
   "name": "python3"
  },
  "language_info": {
   "codemirror_mode": {
    "name": "ipython",
    "version": 3
   },
   "file_extension": ".py",
   "mimetype": "text/x-python",
   "name": "python",
   "nbconvert_exporter": "python",
   "pygments_lexer": "ipython3",
   "version": "3.9.13"
  }
 },
 "nbformat": 4,
 "nbformat_minor": 5
}
