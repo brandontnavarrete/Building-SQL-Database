{
 "cells": [
  {
   "cell_type": "code",
   "execution_count": 1,
   "id": "c03c5ff3",
   "metadata": {},
   "outputs": [],
   "source": [
    "import pandas as pd \n",
    "import numpy as np\n",
    "\n",
    "# file save\n",
    "import json \n",
    "\n",
    "# regular expression\n",
    "import re "
   ]
  },
  {
   "cell_type": "code",
   "execution_count": 2,
   "id": "f1d0bbab",
   "metadata": {},
   "outputs": [],
   "source": [
    "from selenium import webdriver\n",
    "from selenium.webdriver.chrome.service import Service\n",
    "from selenium.webdriver.common.by import By\n",
    "from selenium.webdriver.chrome.options import Options\n",
    "from bs4 import BeautifulSoup\n",
    "from selenium.common.exceptions import TimeoutException"
   ]
  },
  {
   "cell_type": "code",
   "execution_count": 3,
   "id": "c1d09b21",
   "metadata": {},
   "outputs": [],
   "source": [
    "string = 'https://bulbapedia.bulbagarden.net/wiki/EX_Crystal_Guardians_(TCG)#Set_lists'\n",
    "\n",
    "match = re.search(r'\\/([^\\/]+)\\(TCG\\)', string)\n",
    "if match:\n",
    "    extracted_string = match.group(1).replace('_', ' ')\n",
    "    \n"
   ]
  },
  {
   "cell_type": "markdown",
   "id": "ca00d1e0",
   "metadata": {},
   "source": [
    "# Crystal_Guardians"
   ]
  },
  {
   "cell_type": "code",
   "execution_count": 115,
   "id": "50945fbe",
   "metadata": {},
   "outputs": [
    {
     "name": "stdout",
     "output_type": "stream",
     "text": [
      "[]\n",
      "True\n",
      "empty list\n"
     ]
    }
   ],
   "source": [
    "# Set up Chrome options\n",
    "chrome_options = Options()\n",
    "chrome_options.add_argument(\"--headless\")  # Run Chrome in headless mode\n",
    "\n",
    "# Set up Chrome driver service\n",
    "service = Service('/path/to/chromedriver')  # Replace with the actual path to chromedriver\n",
    "\n",
    "# Start the Chrome webdriver\n",
    "driver = webdriver.Chrome(service=service, options=chrome_options)\n",
    "\n",
    "# Load the webpage\n",
    "driver.get('https://bulbapedia.bulbagarden.net/wiki/EX_Crystal_Guardians_(TCG)#Set_lists')  # Replace with the actual URL of the webpage\n",
    "\n",
    "# Wait for the page to load (you may need to adjust the waiting time depending on the page)\n",
    "driver.implicitly_wait(10)  # Wait for 10 seconds\n",
    "\n",
    "# Find the table element using the XPath\n",
    "table_element = driver.find_element(By.XPATH, xPath)\n",
    "\n",
    "# Get the HTML source of the table element\n",
    "table_html = table_element.get_attribute('innerHTML')\n",
    "\n",
    "# Create a BeautifulSoup object from the HTML source\n",
    "soup = BeautifulSoup(table_html, 'html.parser')\n",
    "\n",
    "# Find the serial numbers from a table/html\n",
    "numbers = soup.find_all('td', attrs={'align': 'center', 'style': 'background:#FFFFFF'})\n",
    "numbers_filtered = [num.text.strip() for num in numbers if re.match(r\".*\\d+/\\d+$\", num.text.strip())]\n",
    "\n",
    "print(numbers_filtered)\n",
    "\n",
    "print(numbers_filtered == [])\n",
    "\n",
    "if numbers_filtered == []:\n",
    "    \n",
    "    print(\"empty list\")\n",
    "    \n",
    "    xPath = '//*[@id=\"mw-content-text\"]/div/table[4]/tbody/tr/td[1]/table'\n",
    "    \n",
    "    # Set up Chrome options\n",
    "    chrome_options = Options()\n",
    "    chrome_options.add_argument(\"--headless\")  # Run Chrome in headless mode\n",
    "\n",
    "    # Set up Chrome driver service\n",
    "    service = Service('/path/to/chromedriver')  # Replace with the actual path to chromedriver\n",
    "\n",
    "    # Start the Chrome webdriver\n",
    "    driver = webdriver.Chrome(service=service, options=chrome_options)\n",
    "\n",
    "    # Load the webpage\n",
    "    driver.get('https://bulbapedia.bulbagarden.net/wiki/EX_Crystal_Guardians_(TCG)#Set_lists')  # Replace with the actual URL of the webpage\n",
    "\n",
    "    # Wait for the page to load (you may need to adjust the waiting time depending on the page)\n",
    "    driver.implicitly_wait(10)  # Wait for 10 seconds\n",
    "\n",
    "    # Find the table element using the XPath\n",
    "    table_element = driver.find_element(By.XPATH, xPath)\n",
    "\n",
    "    # Get the HTML source of the table element\n",
    "    table_html = table_element.get_attribute('innerHTML')\n",
    "\n",
    "    # Create a BeautifulSoup object from the HTML source\n",
    "    soup = BeautifulSoup(table_html, 'html.parser')\n",
    "\n",
    "    # You can now use the 'soup' object to parse and extract data from the table\n",
    "    # Find the serial numbers from a table/html\n",
    "    numbers = soup.find_all('td', attrs={'align': 'center', 'style': 'background:#FFFFFF'})\n",
    "    numbers_filtered = [num.text.strip() for num in numbers if re.match(r\".*\\d+/\\d+$\", num.text.strip())]\n",
    "\n",
    "\n",
    "\n",
    "\n",
    "\n",
    "# Close the Chrome webdriver\n",
    "driver.quit()"
   ]
  },
  {
   "cell_type": "code",
   "execution_count": 135,
   "id": "5f398b53",
   "metadata": {},
   "outputs": [],
   "source": [
    "xPath = '//*[@id=\"mw-content-text\"]/div/table[5]/tbody/tr/td[1]/table'"
   ]
  },
  {
   "cell_type": "markdown",
   "id": "fffd8e75",
   "metadata": {},
   "source": [
    "# Base Set"
   ]
  },
  {
   "cell_type": "code",
   "execution_count": 136,
   "id": "cc0e41a7",
   "metadata": {},
   "outputs": [
    {
     "name": "stdout",
     "output_type": "stream",
     "text": [
      "['1/102', '2/102', '3/102', '4/102', '5/102', '6/102', '7/102', '8/102', '9/102', '10/102', '11/102', '12/102', '13/102', '14/102', '15/102', '16/102', '17/102', '18/102', '19/102', '20/102', '21/102', '22/102', '23/102', '24/102', '25/102', '26/102', '27/102', '28/102', '29/102', '30/102', '31/102', '32/102', '33/102', '34/102', '35/102', '36/102', '37/102', '38/102', '39/102', '40/102', '41/102', '42/102', '43/102', '44/102', '45/102', '46/102', '47/102', '48/102', '49/102', '50/102', '51/102', '52/102', '53/102', '54/102', '55/102', '56/102', '57/102', '58/102', '59/102', '60/102', '61/102', '62/102', '63/102', '64/102', '65/102', '66/102', '67/102', '68/102', '69/102', '70/102', '71/102', '72/102', '73/102', '74/102', '75/102', '76/102', '77/102', '78/102', '79/102', '80/102', '81/102', '82/102', '83/102', '84/102', '85/102', '86/102', '87/102', '88/102', '89/102', '90/102', '91/102', '92/102', '93/102', '94/102', '95/102', '96/102', '97/102', '98/102', '99/102', '100/102', '101/102', '102/102']\n"
     ]
    }
   ],
   "source": [
    "# Set up Chrome options\n",
    "chrome_options = Options()\n",
    "chrome_options.add_argument(\"--headless\")  # Run Chrome in headless mode\n",
    "\n",
    "# Set up Chrome driver service\n",
    "service = Service('/path/to/chromedriver')  # Replace with the actual path to chromedriver\n",
    "\n",
    "# Start the Chrome webdriver\n",
    "driver = webdriver.Chrome(service=service, options=chrome_options)\n",
    "\n",
    "# Load the webpage\n",
    "driver.get('https://bulbapedia.bulbagarden.net/wiki/Base_Set_(TCG)#Set_lists')  # Replace with the actual URL of the webpage\n",
    "\n",
    "# Wait for the page to load (you may need to adjust the waiting time depending on the page)\n",
    "driver.implicitly_wait(10)  # Wait for 10 seconds\n",
    "\n",
    "\n",
    "xPath = '//*[@id=\"mw-content-text\"]/div/table[4]/tbody/tr/td[1]/table'\n",
    "# Find the table element using the XPath\n",
    "table_element = driver.find_element(By.XPATH, xPath)\n",
    "\n",
    "# Get the HTML source of the table element\n",
    "table_html = table_element.get_attribute('innerHTML')\n",
    "\n",
    "# Create a BeautifulSoup object from the HTML source\n",
    "soup = BeautifulSoup(table_html, 'html.parser')\n",
    "\n",
    "# Find the serial numbers from a table/html\n",
    "numbers = soup.find_all('td', attrs={'align': 'center', 'style': 'background:#FFFFFF'})\n",
    "numbers_filtered = [num.text.strip() for num in numbers if re.match(r\".*\\d+/\\d+$\", num.text.strip())]\n",
    "\n",
    "print(numbers_filtered)\n",
    "\n",
    "if numbers_filtered == []:\n",
    "    \n",
    "    print(\"empty list\")\n",
    "    \n",
    "    xPath = '//*[@id=\"mw-content-text\"]/div/table[5]/tbody/tr/td[1]/table'\n",
    "    \n",
    "    # Set up Chrome options\n",
    "    chrome_options = Options()\n",
    "    chrome_options.add_argument(\"--headless\")  # Run Chrome in headless mode\n",
    "\n",
    "    # Set up Chrome driver service\n",
    "    service = Service('/path/to/chromedriver')  # Replace with the actual path to chromedriver\n",
    "\n",
    "    # Start the Chrome webdriver\n",
    "    driver = webdriver.Chrome(service=service, options=chrome_options)\n",
    "\n",
    "    # Load the webpage\n",
    "    driver.get('https://bulbapedia.bulbagarden.net/wiki/Base_Set_(TCG)#Set_lists')  # Replace with the actual URL of the webpage\n",
    "\n",
    "    # Wait for the page to load (you may need to adjust the waiting time depending on the page)\n",
    "    driver.implicitly_wait(10)  # Wait for 10 seconds\n",
    "\n",
    "    # Find the table element using the XPath\n",
    "    table_element = driver.find_element(By.XPATH, xPath)\n",
    "\n",
    "    # Get the HTML source of the table element\n",
    "    table_html = table_element.get_attribute('innerHTML')\n",
    "\n",
    "    # Create a BeautifulSoup object from the HTML source\n",
    "    soup = BeautifulSoup(table_html, 'html.parser')\n",
    "\n",
    "    # You can now use the 'soup' object to parse and extract data from the table\n",
    "    # Find the serial numbers from a table/html\n",
    "    numbers = soup.find_all('td', attrs={'align': 'center', 'style': 'background:#FFFFFF'})\n",
    "    numbers_filtered = [num.text.strip() for num in numbers if re.match(r\".*\\d+/\\d+$\", num.text.strip())]\n",
    "\n",
    "\n",
    "\n",
    "\n",
    "\n",
    "# Close the Chrome webdriver\n",
    "driver.quit()"
   ]
  },
  {
   "cell_type": "code",
   "execution_count": 137,
   "id": "6058553a",
   "metadata": {},
   "outputs": [],
   "source": [
    "# Find the serial numbers from a table/html\n",
    "numbers = soup.find_all('td', attrs={'align': 'center', 'style': 'background:#FFFFFF'})\n",
    "numbers_filtered = [num.text.strip() for num in numbers if re.match(r\".*\\d+/\\d+$\", num.text.strip())]"
   ]
  },
  {
   "cell_type": "code",
   "execution_count": 138,
   "id": "4549c613",
   "metadata": {},
   "outputs": [
    {
     "data": {
      "text/plain": [
       "False"
      ]
     },
     "execution_count": 138,
     "metadata": {},
     "output_type": "execute_result"
    }
   ],
   "source": [
    "numbers_filtered == []"
   ]
  },
  {
   "cell_type": "code",
   "execution_count": 139,
   "id": "383ba799",
   "metadata": {},
   "outputs": [
    {
     "data": {
      "text/plain": [
       "['1/102', '2/102', '3/102', '4/102', '5/102']"
      ]
     },
     "execution_count": 139,
     "metadata": {},
     "output_type": "execute_result"
    }
   ],
   "source": [
    "numbers_filtered[:5]"
   ]
  },
  {
   "cell_type": "code",
   "execution_count": 140,
   "id": "cb3d736f",
   "metadata": {},
   "outputs": [],
   "source": [
    "# Find card names through HTML\n",
    "items = soup.find_all('td', attrs={'style': 'background:#FFFFFF'})\n",
    "cardNames = []\n",
    "for item in items:\n",
    "    if item.find('a') and '/100' not in item.text:\n",
    "        card_name = item.find('a').text.strip()\n",
    "        cardNames.append(card_name)\n",
    "cardNames = list(filter(lambda x: x != '', cardNames))"
   ]
  },
  {
   "cell_type": "code",
   "execution_count": 141,
   "id": "97cc178d",
   "metadata": {},
   "outputs": [
    {
     "data": {
      "text/plain": [
       "['Alakazam', 'Blastoise', 'Chansey', 'Charizard', 'Clefairy']"
      ]
     },
     "execution_count": 141,
     "metadata": {},
     "output_type": "execute_result"
    }
   ],
   "source": [
    "cardNames[:5]"
   ]
  },
  {
   "cell_type": "code",
   "execution_count": 142,
   "id": "6d497ae9",
   "metadata": {},
   "outputs": [],
   "source": [
    "# Find types\n",
    "types = soup.find_all('th', attrs={'align': 'center'})\n",
    "\n",
    "pTypes = []\n",
    "pattern = r'^[A-Z]'\n",
    "\n",
    "for i, html in enumerate(types):\n",
    "    # Determine the appropriate extraction method based on a condition\n",
    "    html1 = html.text\n",
    "\n",
    "    if re.search(pattern, str(html1)):\n",
    "        # Extract method 1\n",
    "        title = str(html1).strip()\n",
    "        pTypes.append(title)\n",
    "    else:\n",
    "        # Ensure there are at least two 'a' tags for energy titles\n",
    "        a_tags = html.find_all('a')\n",
    "        num_a_tags = len(a_tags)\n",
    "\n",
    "        if num_a_tags >= 2:\n",
    "            type1 = a_tags[0]\n",
    "            title1 = type1['title']\n",
    "\n",
    "            type2 = a_tags[1]\n",
    "            title2 = type2['title']\n",
    "\n",
    "            pTypes.append([title1, title2])  # Append a list of two types to the main list\n",
    "        elif num_a_tags == 1:\n",
    "            a_tag = a_tags[0]\n",
    "            title = a_tag['title']\n",
    "\n",
    "            pTypes.append(title)  # Append single type to the main list\n",
    "        else:\n",
    "            print(f\"Error: Insufficient 'a' tags for element {i}\")"
   ]
  },
  {
   "cell_type": "code",
   "execution_count": 143,
   "id": "e4ee0a39",
   "metadata": {},
   "outputs": [
    {
     "data": {
      "text/plain": [
       "['Psychic', 'Water', 'Colorless', 'Fire', 'Colorless']"
      ]
     },
     "execution_count": 143,
     "metadata": {},
     "output_type": "execute_result"
    }
   ],
   "source": [
    "pTypes[:5]"
   ]
  },
  {
   "cell_type": "code",
   "execution_count": 144,
   "id": "d10780da",
   "metadata": {},
   "outputs": [],
   "source": [
    "image_anchors = soup.find_all('a', class_='image')\n",
    "possible_titles = ['Rare Holo', 'Rare', 'Uncommon', 'Common', 'Rare Holo ex', 'Shiny Rare', 'ShinyRare Holo']\n",
    "Rarity = []\n",
    "for anchor in image_anchors:\n",
    "    title = anchor.get('title')\n",
    "    if title in possible_titles:\n",
    "        Rarity.append(title)"
   ]
  },
  {
   "cell_type": "code",
   "execution_count": 145,
   "id": "59b89f7b",
   "metadata": {},
   "outputs": [
    {
     "data": {
      "text/plain": [
       "['Rare Holo', 'Rare Holo', 'Rare Holo', 'Rare Holo', 'Rare Holo']"
      ]
     },
     "execution_count": 145,
     "metadata": {},
     "output_type": "execute_result"
    }
   ],
   "source": [
    "Rarity[:5]"
   ]
  },
  {
   "cell_type": "code",
   "execution_count": 146,
   "id": "f6ff00bb",
   "metadata": {},
   "outputs": [],
   "source": [
    "# Fix data length\n",
    "if len(Rarity) < len(numbers_filtered):\n",
    "    diff = len(numbers_filtered) - len(Rarity)\n",
    "    Rarity.extend(['NULL'] * diff)\n"
   ]
  },
  {
   "cell_type": "code",
   "execution_count": 147,
   "id": "ad5d8e53",
   "metadata": {
    "scrolled": true
   },
   "outputs": [],
   "source": [
    "data = []  # Initialize the data list\n",
    "\n",
    "for i in range(0, len(numbers_filtered)):\n",
    "    dNum = numbers_filtered[i]\n",
    "    dName = cardNames[i]\n",
    "    dType = pTypes[i]\n",
    "    dRarity = Rarity[i]\n",
    "\n",
    "    data.append({\n",
    "        'serial_number': dNum,\n",
    "        'name': dName,\n",
    "        'type': dType,\n",
    "        'rarity': dRarity,\n",
    "        'set': extracted_string\n",
    "    })\n",
    "\n",
    "data_df = pd.DataFrame(data, columns=['serial_number', 'name', 'type', 'rarity', 'set'])\n"
   ]
  },
  {
   "cell_type": "code",
   "execution_count": 148,
   "id": "fcd26fc7",
   "metadata": {},
   "outputs": [
    {
     "data": {
      "text/html": [
       "<div>\n",
       "<style scoped>\n",
       "    .dataframe tbody tr th:only-of-type {\n",
       "        vertical-align: middle;\n",
       "    }\n",
       "\n",
       "    .dataframe tbody tr th {\n",
       "        vertical-align: top;\n",
       "    }\n",
       "\n",
       "    .dataframe thead th {\n",
       "        text-align: right;\n",
       "    }\n",
       "</style>\n",
       "<table border=\"1\" class=\"dataframe\">\n",
       "  <thead>\n",
       "    <tr style=\"text-align: right;\">\n",
       "      <th></th>\n",
       "      <th>serial_number</th>\n",
       "      <th>name</th>\n",
       "      <th>type</th>\n",
       "      <th>rarity</th>\n",
       "      <th>set</th>\n",
       "    </tr>\n",
       "  </thead>\n",
       "  <tbody>\n",
       "    <tr>\n",
       "      <th>0</th>\n",
       "      <td>1/102</td>\n",
       "      <td>Alakazam</td>\n",
       "      <td>Psychic</td>\n",
       "      <td>Rare Holo</td>\n",
       "      <td>EX Crystal Guardians</td>\n",
       "    </tr>\n",
       "    <tr>\n",
       "      <th>1</th>\n",
       "      <td>2/102</td>\n",
       "      <td>Blastoise</td>\n",
       "      <td>Water</td>\n",
       "      <td>Rare Holo</td>\n",
       "      <td>EX Crystal Guardians</td>\n",
       "    </tr>\n",
       "    <tr>\n",
       "      <th>2</th>\n",
       "      <td>3/102</td>\n",
       "      <td>Chansey</td>\n",
       "      <td>Colorless</td>\n",
       "      <td>Rare Holo</td>\n",
       "      <td>EX Crystal Guardians</td>\n",
       "    </tr>\n",
       "    <tr>\n",
       "      <th>3</th>\n",
       "      <td>4/102</td>\n",
       "      <td>Charizard</td>\n",
       "      <td>Fire</td>\n",
       "      <td>Rare Holo</td>\n",
       "      <td>EX Crystal Guardians</td>\n",
       "    </tr>\n",
       "    <tr>\n",
       "      <th>4</th>\n",
       "      <td>5/102</td>\n",
       "      <td>Clefairy</td>\n",
       "      <td>Colorless</td>\n",
       "      <td>Rare Holo</td>\n",
       "      <td>EX Crystal Guardians</td>\n",
       "    </tr>\n",
       "    <tr>\n",
       "      <th>...</th>\n",
       "      <td>...</td>\n",
       "      <td>...</td>\n",
       "      <td>...</td>\n",
       "      <td>...</td>\n",
       "      <td>...</td>\n",
       "    </tr>\n",
       "    <tr>\n",
       "      <th>97</th>\n",
       "      <td>98/102</td>\n",
       "      <td>Fire Energy</td>\n",
       "      <td>Fire</td>\n",
       "      <td>NULL</td>\n",
       "      <td>EX Crystal Guardians</td>\n",
       "    </tr>\n",
       "    <tr>\n",
       "      <th>98</th>\n",
       "      <td>99/102</td>\n",
       "      <td>Grass Energy</td>\n",
       "      <td>Grass</td>\n",
       "      <td>NULL</td>\n",
       "      <td>EX Crystal Guardians</td>\n",
       "    </tr>\n",
       "    <tr>\n",
       "      <th>99</th>\n",
       "      <td>100/102</td>\n",
       "      <td>Lightning Energy</td>\n",
       "      <td>Lightning</td>\n",
       "      <td>NULL</td>\n",
       "      <td>EX Crystal Guardians</td>\n",
       "    </tr>\n",
       "    <tr>\n",
       "      <th>100</th>\n",
       "      <td>101/102</td>\n",
       "      <td>Psychic Energy</td>\n",
       "      <td>Psychic</td>\n",
       "      <td>NULL</td>\n",
       "      <td>EX Crystal Guardians</td>\n",
       "    </tr>\n",
       "    <tr>\n",
       "      <th>101</th>\n",
       "      <td>102/102</td>\n",
       "      <td>Water Energy</td>\n",
       "      <td>Water</td>\n",
       "      <td>NULL</td>\n",
       "      <td>EX Crystal Guardians</td>\n",
       "    </tr>\n",
       "  </tbody>\n",
       "</table>\n",
       "<p>102 rows × 5 columns</p>\n",
       "</div>"
      ],
      "text/plain": [
       "    serial_number              name       type     rarity  \\\n",
       "0           1/102          Alakazam    Psychic  Rare Holo   \n",
       "1           2/102         Blastoise      Water  Rare Holo   \n",
       "2           3/102           Chansey  Colorless  Rare Holo   \n",
       "3           4/102         Charizard       Fire  Rare Holo   \n",
       "4           5/102          Clefairy  Colorless  Rare Holo   \n",
       "..            ...               ...        ...        ...   \n",
       "97         98/102       Fire Energy       Fire       NULL   \n",
       "98         99/102      Grass Energy      Grass       NULL   \n",
       "99        100/102  Lightning Energy  Lightning       NULL   \n",
       "100       101/102    Psychic Energy    Psychic       NULL   \n",
       "101       102/102      Water Energy      Water       NULL   \n",
       "\n",
       "                       set  \n",
       "0    EX Crystal Guardians   \n",
       "1    EX Crystal Guardians   \n",
       "2    EX Crystal Guardians   \n",
       "3    EX Crystal Guardians   \n",
       "4    EX Crystal Guardians   \n",
       "..                     ...  \n",
       "97   EX Crystal Guardians   \n",
       "98   EX Crystal Guardians   \n",
       "99   EX Crystal Guardians   \n",
       "100  EX Crystal Guardians   \n",
       "101  EX Crystal Guardians   \n",
       "\n",
       "[102 rows x 5 columns]"
      ]
     },
     "execution_count": 148,
     "metadata": {},
     "output_type": "execute_result"
    }
   ],
   "source": [
    "data_df"
   ]
  },
  {
   "cell_type": "code",
   "execution_count": null,
   "id": "1624e300",
   "metadata": {},
   "outputs": [],
   "source": []
  }
 ],
 "metadata": {
  "kernelspec": {
   "display_name": "Python 3 (ipykernel)",
   "language": "python",
   "name": "python3"
  },
  "language_info": {
   "codemirror_mode": {
    "name": "ipython",
    "version": 3
   },
   "file_extension": ".py",
   "mimetype": "text/x-python",
   "name": "python",
   "nbconvert_exporter": "python",
   "pygments_lexer": "ipython3",
   "version": "3.9.13"
  }
 },
 "nbformat": 4,
 "nbformat_minor": 5
}
