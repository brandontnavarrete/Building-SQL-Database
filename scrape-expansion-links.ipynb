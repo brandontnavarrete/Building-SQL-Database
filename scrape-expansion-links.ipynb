{
 "cells": [
  {
   "cell_type": "code",
   "execution_count": null,
   "id": "80e86076",
   "metadata": {},
   "outputs": [],
   "source": [
    "# BRANDON, COME IN AND DESCRIBE WHAT, WHY, HOW THIS DOES."
   ]
  },
  {
   "cell_type": "markdown",
   "id": "7ef37927",
   "metadata": {},
   "source": [
    "# Imports"
   ]
  },
  {
   "cell_type": "code",
   "execution_count": 2,
   "id": "ee9eac05",
   "metadata": {},
   "outputs": [],
   "source": [
    "# data manipulation\n",
    "import pandas as pd \n",
    "import numpy as np\n",
    "\n",
    "# Html to soup\n",
    "from bs4 import BeautifulSoup\n",
    "\n",
    "# regular expressions\n",
    "import re\n",
    "\n",
    "# file save\n",
    "import json"
   ]
  },
  {
   "cell_type": "markdown",
   "id": "fb1c4b7d",
   "metadata": {},
   "source": [
    "# Selenium"
   ]
  },
  {
   "cell_type": "code",
   "execution_count": 3,
   "id": "036e2676",
   "metadata": {},
   "outputs": [],
   "source": [
    "from selenium import webdriver\n",
    "from selenium.webdriver.chrome.service import Service\n",
    "from selenium.webdriver.common.by import By\n",
    "from selenium.webdriver.chrome.options import Options\n",
    "from bs4 import BeautifulSoup\n",
    "\n",
    "def get_page_content(url):\n",
    "    # Set up Selenium options\n",
    "    options = Options()\n",
    "    options.add_argument(\"--headless\")  # Run Chrome in headless mode\n",
    "\n",
    "    # Set up the Selenium service\n",
    "    service = Service('path_to_chromedriver')  # Replace 'path_to_chromedriver' with the actual path to chromedriver executable\n",
    "    service.start()\n",
    "\n",
    "    # Set up the Chrome driver\n",
    "    driver = webdriver.Chrome(service=service, options=options)  # Make sure chromedriver is in your PATH\n",
    "\n",
    "    # Fetch the page\n",
    "    driver.get(url)\n",
    "    \n",
    "    # Wait for the page to load (you may need to adjust the waiting time depending on the page)\n",
    "    driver.implicitly_wait(10)  # Wait for 10 seconds\n",
    "\n",
    "    # Get the page source and create a BeautifulSoup object\n",
    "    soup = BeautifulSoup(driver.page_source, 'html.parser')\n",
    "    \n",
    "    \n",
    "\n",
    "    # Close the Chrome driver\n",
    "    driver.quit()\n",
    "\n",
    "    return soup"
   ]
  },
  {
   "cell_type": "code",
   "execution_count": 4,
   "id": "a480b814",
   "metadata": {},
   "outputs": [],
   "source": [
    "# the start page i want to scrape\n",
    "url = 'https://bulbapedia.bulbagarden.net/wiki/List_of_Pok%C3%A9mon_Trading_Card_Game_expansions#Original_Series'\n",
    "\n",
    "# query the function, input url, save returned soup to 'page_content'\n",
    "page_content = get_page_content(url)\n",
    "\n",
    "# prettify() method adds indentation and line breaks to make the HTML structure more human-readable. This is particularly useful when you're working with complex HTML.\n",
    "#print(page_content.prettify())\n"
   ]
  },
  {
   "cell_type": "markdown",
   "id": "694e69f4",
   "metadata": {},
   "source": [
    "# HTML"
   ]
  },
  {
   "cell_type": "code",
   "execution_count": 5,
   "id": "dd12ccf9",
   "metadata": {},
   "outputs": [],
   "source": [
    "# Convert the soup object to an HTML string\n",
    "html_string = str(page_content)\n",
    "\n",
    "# Read tables from the HTML string using pd.read_html() or read_tables()\n",
    "tables = pd.read_html(html_string)"
   ]
  },
  {
   "cell_type": "markdown",
   "id": "9633f81e",
   "metadata": {},
   "source": [
    "# Naming Tables"
   ]
  },
  {
   "cell_type": "code",
   "execution_count": 6,
   "id": "6310ae61",
   "metadata": {},
   "outputs": [],
   "source": [
    "# Define the expansion names\n",
    "ex = [\n",
    "    \"Original_Series\",\n",
    "    \"Neo_Series\",\n",
    "    \"Legendary_Collection_Series\",\n",
    "    \"e-Card_Series\",\n",
    "    \"EX_Series\",\n",
    "    \"Diamond_&_Pearl_Series\",\n",
    "    \"Platinum_Series\",\n",
    "    \"HeartGold_&_SoulSilver_Series\",\n",
    "    \"Call_of_Legends_Series\",\n",
    "    \"Black_&_White_Series\",\n",
    "    \"XY_Series\",\n",
    "    \"Sun_& _Moon_Series\",\n",
    "    \"Sword_&_Shield_Series\",\n",
    "    \"Scarlet_&_Violet_Series\",\n",
    "    \"Black_Star_Promos\",\n",
    "    \"McDonald's_Collection\",\n",
    "    \"POP_/_Play!_Pokemon_Prize_Packs\",\n",
    "    \"Other_Miscellaneous_Sets\"\n",
    "]\n",
    "\n",
    "# Assign tables to corresponding variables using a dictionary comprehension\n",
    "expansion_tables = {name.replace(\" \", \"_\"): table for name, table in zip(ex, tables)}\n",
    "\n",
    "sets_dict = {}  # Initialize the dictionary\n",
    "\n",
    "for table_name, table in expansion_tables.items():\n",
    "    sets = table['Name of Expansion'].tolist()  # Convert the column to a list\n",
    "    sets_dict[table_name] = sets\n"
   ]
  },
  {
   "cell_type": "code",
   "execution_count": 91,
   "id": "4e871e2d",
   "metadata": {},
   "outputs": [
    {
     "data": {
      "text/plain": [
       "['Base Set',\n",
       " 'Jungle',\n",
       " 'Fossil',\n",
       " 'Base Set 2',\n",
       " 'Team Rocket',\n",
       " 'Gym Heroes',\n",
       " 'Gym Challenge']"
      ]
     },
     "execution_count": 91,
     "metadata": {},
     "output_type": "execute_result"
    }
   ],
   "source": [
    "sets_dict['Original_Series']"
   ]
  },
  {
   "cell_type": "code",
   "execution_count": 119,
   "id": "f5a0b5fa",
   "metadata": {},
   "outputs": [],
   "source": [
    "webString = \"https://bulbapedia.bulbagarden.net/wiki/\"\n",
    "\n",
    "links = {\n",
    "    table_name: [webString + word.replace(' ', '_') + \"_(TCG)#Set_lists\" for word in sets]\n",
    "    for table_name, sets in sets_dict.items()\n",
    "}\n"
   ]
  },
  {
   "cell_type": "code",
   "execution_count": 120,
   "id": "247ea346",
   "metadata": {},
   "outputs": [
    {
     "data": {
      "text/plain": [
       "['https://bulbapedia.bulbagarden.net/wiki/Base_Set_(TCG)#Set_lists',\n",
       " 'https://bulbapedia.bulbagarden.net/wiki/Jungle_(TCG)#Set_lists',\n",
       " 'https://bulbapedia.bulbagarden.net/wiki/Fossil_(TCG)#Set_lists',\n",
       " 'https://bulbapedia.bulbagarden.net/wiki/Base_Set_2_(TCG)#Set_lists',\n",
       " 'https://bulbapedia.bulbagarden.net/wiki/Team_Rocket_(TCG)#Set_lists',\n",
       " 'https://bulbapedia.bulbagarden.net/wiki/Gym_Heroes_(TCG)#Set_lists',\n",
       " 'https://bulbapedia.bulbagarden.net/wiki/Gym_Challenge_(TCG)#Set_lists']"
      ]
     },
     "execution_count": 120,
     "metadata": {},
     "output_type": "execute_result"
    }
   ],
   "source": [
    "links['Original_Series']"
   ]
  },
  {
   "cell_type": "code",
   "execution_count": 121,
   "id": "9f16378c",
   "metadata": {},
   "outputs": [],
   "source": [
    "\n",
    "# File path to save the dictionary\n",
    "file_path = 'pokemonTCG_links.json'\n",
    "\n",
    "# Open the file in write mode and save the dictionary as JSON\n",
    "with open(file_path, 'w') as file:\n",
    "    json.dump(links, file)\n"
   ]
  },
  {
   "cell_type": "code",
   "execution_count": 122,
   "id": "fe09200c",
   "metadata": {},
   "outputs": [
    {
     "ename": "SyntaxError",
     "evalue": "EOL while scanning string literal (531769992.py, line 10)",
     "output_type": "error",
     "traceback": [
      "\u001b[0;36m  File \u001b[0;32m\"/var/folders/d0/5dr5q0n145vcn3_m9dxy1xq80000gn/T/ipykernel_7438/531769992.py\"\u001b[0;36m, line \u001b[0;32m10\u001b[0m\n\u001b[0;31m    file.write(f\"{link}\\n\")''''\u001b[0m\n\u001b[0m                               \n^\u001b[0m\n\u001b[0;31mSyntaxError\u001b[0m\u001b[0;31m:\u001b[0m EOL while scanning string literal\n"
     ]
    }
   ],
   "source": [
    "''''\n",
    "This format will save to txt. It will only hold links and will NOT save the dictionary\n",
    "\n",
    "# Open file in write mode\n",
    "with open('pokemonTCG_links.txt', 'w') as file:\n",
    "    # Iterate over the dictionary items\n",
    "    for table_name, link_list in links.items():\n",
    "        # Write each link to a new line in the file\n",
    "        for link in link_list:\n",
    "            file.write(f\"{link}\\n\")''''"
   ]
  }
 ],
 "metadata": {
  "kernelspec": {
   "display_name": "Python 3 (ipykernel)",
   "language": "python",
   "name": "python3"
  },
  "language_info": {
   "codemirror_mode": {
    "name": "ipython",
    "version": 3
   },
   "file_extension": ".py",
   "mimetype": "text/x-python",
   "name": "python",
   "nbconvert_exporter": "python",
   "pygments_lexer": "ipython3",
   "version": "3.9.13"
  }
 },
 "nbformat": 4,
 "nbformat_minor": 5
}
