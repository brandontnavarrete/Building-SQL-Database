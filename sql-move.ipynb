{
 "cells": [
  {
   "cell_type": "markdown",
   "id": "72c0c136",
   "metadata": {},
   "source": [
    "# import "
   ]
  },
  {
   "cell_type": "code",
   "execution_count": 42,
   "id": "3e84dbca",
   "metadata": {},
   "outputs": [],
   "source": [
    "import pandas as pd \n",
    "import numpy as np\n",
    "\n",
    "# importing credentials\n",
    "import env"
   ]
  },
  {
   "cell_type": "code",
   "execution_count": 43,
   "id": "29e98713",
   "metadata": {},
   "outputs": [],
   "source": [
    "import os "
   ]
  },
  {
   "cell_type": "code",
   "execution_count": 44,
   "id": "fc3861c5",
   "metadata": {},
   "outputs": [],
   "source": [
    "# importing credentials\n",
    "import env"
   ]
  },
  {
   "cell_type": "markdown",
   "id": "6911f8ba",
   "metadata": {},
   "source": [
    "# import data"
   ]
  },
  {
   "cell_type": "code",
   "execution_count": 45,
   "id": "95683b55",
   "metadata": {},
   "outputs": [],
   "source": [
    "df = pd.read_csv('setsToSql',index_col= 0 )"
   ]
  },
  {
   "cell_type": "code",
   "execution_count": 46,
   "id": "61f0745b",
   "metadata": {},
   "outputs": [
    {
     "data": {
      "text/plain": [
       "0              Base Set \n",
       "1              Base Set \n",
       "2              Base Set \n",
       "3              Base Set \n",
       "4              Base Set \n",
       "              ...       \n",
       "3462    Supreme Victors \n",
       "3463    Supreme Victors \n",
       "3464    Supreme Victors \n",
       "3465    Supreme Victors \n",
       "3466    Supreme Victors \n",
       "Name: set, Length: 3467, dtype: object"
      ]
     },
     "execution_count": 46,
     "metadata": {},
     "output_type": "execute_result"
    }
   ],
   "source": [
    "df['set']"
   ]
  },
  {
   "cell_type": "code",
   "execution_count": 47,
   "id": "240e2262",
   "metadata": {},
   "outputs": [],
   "source": [
    "stripper = lambda x: x.strip() if isinstance(x, str) else x"
   ]
  },
  {
   "cell_type": "code",
   "execution_count": 48,
   "id": "a6eda328",
   "metadata": {},
   "outputs": [],
   "source": [
    "df['set'] = df['set'].apply(stripper)"
   ]
  },
  {
   "cell_type": "markdown",
   "id": "a988b7b9",
   "metadata": {},
   "source": [
    "# SQL CONNECTION AND MOVE"
   ]
  },
  {
   "cell_type": "code",
   "execution_count": 6,
   "id": "afb152ff",
   "metadata": {},
   "outputs": [
    {
     "name": "stdout",
     "output_type": "stream",
     "text": [
      "Connected to MySQL database\n"
     ]
    }
   ],
   "source": [
    "import mysql.connector\n",
    "import os\n",
    "\n",
    "# Retrieve the password from the environment variable\n",
    "password = env.password\n",
    "username = env.username\n",
    "\n",
    "# Establish a connection\n",
    "connection = mysql.connector.connect(\n",
    "    host='localhost',\n",
    "    user= username,\n",
    "    password=password,\n",
    "    database='PokemonTCG'\n",
    ")\n",
    "\n",
    "# Check if the connection is successful\n",
    "if connection.is_connected():\n",
    "    print(\"Connected to MySQL database\")\n",
    "\n",
    "# Perform database operations\n",
    "# ...\n",
    "\n",
    "# Close the connection when finished\n",
    "connection.close()\n"
   ]
  },
  {
   "cell_type": "markdown",
   "id": "2e74808c",
   "metadata": {},
   "source": [
    "# Serial Number to SQL"
   ]
  },
  {
   "cell_type": "code",
   "execution_count": 17,
   "id": "9983b90d",
   "metadata": {},
   "outputs": [
    {
     "name": "stdout",
     "output_type": "stream",
     "text": [
      "Connected to MySQL database\n"
     ]
    }
   ],
   "source": [
    "# Establish a connection\n",
    "connection = mysql.connector.connect(\n",
    "    host='localhost',\n",
    "    user= username,\n",
    "    password= password,\n",
    "    database='PokemonTCG'\n",
    ")\n",
    "\n",
    "# Check if the connection is successful\n",
    "if connection.is_connected():\n",
    "    print(\"Connected to MySQL database\")\n",
    "\n",
    "# Create a cursor object to execute SQL queries\n",
    "cursor = connection.cursor()\n",
    "\n",
    "# Get the 'serial_number' values from the DataFrame\n",
    "serial_numbers = df['serial_number'].tolist()\n",
    "\n",
    "# Insert the 'serial_number' values into the 'cards' table\n",
    "for serial_number in serial_numbers:\n",
    "    query = \"INSERT INTO cards (serial_number) VALUES (%s)\"\n",
    "    values = (serial_number,)\n",
    "    #print(query)\n",
    "    #print(values)\n",
    "    cursor.execute(query, values)\n",
    "\n",
    "# Commit the changes\n",
    "connection.commit()\n",
    "\n",
    "# Close the cursor and connection\n",
    "cursor.close()\n",
    "connection.close()\n"
   ]
  },
  {
   "cell_type": "markdown",
   "id": "82e28a74",
   "metadata": {},
   "source": [
    "# Card Name to SQL"
   ]
  },
  {
   "cell_type": "code",
   "execution_count": 19,
   "id": "e428ff31",
   "metadata": {},
   "outputs": [
    {
     "name": "stdout",
     "output_type": "stream",
     "text": [
      "Connected to MySQL database\n"
     ]
    }
   ],
   "source": [
    "# Establish a connection\n",
    "connection = mysql.connector.connect(\n",
    "    host='localhost',\n",
    "    user= username,\n",
    "    password= password,\n",
    "    database='PokemonTCG'\n",
    ")\n",
    "\n",
    "# Check if the connection is successful\n",
    "if connection.is_connected():\n",
    "    print(\"Connected to MySQL database\")\n",
    "\n",
    "# Create a cursor object to execute SQL queries\n",
    "cursor = connection.cursor()\n",
    "\n",
    "# Get the serial numbers and card names from the DataFrame\n",
    "card_names = df['name'].tolist()\n",
    "\n",
    "# Iterate over the serial numbers and card names to update the table\n",
    "for serial_number, card_name in zip(serial_numbers, card_names):\n",
    "    update_query = \"UPDATE cards SET card_name = %s WHERE serial_number = %s\"\n",
    "    values = (card_name, serial_number)\n",
    "    cursor.execute(update_query, values)\n",
    "\n",
    "# Commit the changes\n",
    "connection.commit()\n",
    "\n",
    "# Close the cursor and connection\n",
    "cursor.close()\n",
    "connection.close()\n"
   ]
  },
  {
   "cell_type": "markdown",
   "id": "8fc2e958",
   "metadata": {},
   "source": [
    "# Rarity to SQL"
   ]
  },
  {
   "cell_type": "code",
   "execution_count": 20,
   "id": "c3f08ca3",
   "metadata": {},
   "outputs": [
    {
     "name": "stdout",
     "output_type": "stream",
     "text": [
      "Connected to MySQL database\n"
     ]
    }
   ],
   "source": [
    "# Establish a connection\n",
    "connection = mysql.connector.connect(\n",
    "    host='localhost',\n",
    "    user= username,\n",
    "    password= password,\n",
    "    database='PokemonTCG'\n",
    ")\n",
    "\n",
    "# Check if the connection is successful\n",
    "if connection.is_connected():\n",
    "    print(\"Connected to MySQL database\")\n",
    "\n",
    "# Create a cursor object to execute SQL queries\n",
    "cursor = connection.cursor()\n",
    "\n",
    "# Iterate over the rows in the DataFrame\n",
    "for index, row in df.iterrows():\n",
    "    serial_number = row['serial_number']\n",
    "    card_name = row['name']\n",
    "    rarity = row['rarity']\n",
    "\n",
    "    # Retrieve the rarity_id from the rarity table\n",
    "    select_query = \"SELECT rarity_id FROM rarity WHERE rarity_name = %s\"\n",
    "    cursor.execute(select_query, (rarity,))\n",
    "    result = cursor.fetchone()\n",
    "\n",
    "    if result is not None:\n",
    "        rarity_id = result[0]\n",
    "\n",
    "        # Update the cards table with the rarity_id\n",
    "        update_query = \"UPDATE cards SET rarity_id = %s WHERE serial_number = %s AND card_name = %s\"\n",
    "        update_values = (rarity_id, serial_number, card_name)\n",
    "        cursor.execute(update_query, update_values)\n",
    "\n",
    "# Commit the changes\n",
    "connection.commit()\n",
    "\n",
    "# Close the cursor and connection\n",
    "cursor.close()\n",
    "connection.close()\n"
   ]
  },
  {
   "cell_type": "markdown",
   "id": "f5bfef24",
   "metadata": {},
   "source": [
    "# Set to SQL"
   ]
  },
  {
   "cell_type": "code",
   "execution_count": 50,
   "id": "0875b390",
   "metadata": {},
   "outputs": [
    {
     "name": "stdout",
     "output_type": "stream",
     "text": [
      "Connected to MySQL database\n"
     ]
    }
   ],
   "source": [
    "# Establish a connection\n",
    "connection = mysql.connector.connect(\n",
    "    host='localhost',\n",
    "    user=username,\n",
    "    password=password,\n",
    "    database='PokemonTCG'\n",
    ")\n",
    "\n",
    "# Check if the connection is successful\n",
    "if connection.is_connected():\n",
    "    print(\"Connected to MySQL database\")\n",
    "\n",
    "# Create a cursor object to execute SQL queries\n",
    "cursor = connection.cursor()\n",
    "\n",
    "# Iterate over the rows in the DataFrame\n",
    "for index, row in df.iterrows():\n",
    "    serial_number = row['serial_number']\n",
    "    card_name = row['name']\n",
    "    rarity = row['rarity']\n",
    "    set_name = row['set']\n",
    "\n",
    "    # Retrieve the set_id from the sets table\n",
    "    select_query = \"SELECT set_id FROM sets WHERE set_name = %s\"\n",
    "    cursor.execute(select_query, (set_name,))\n",
    "    result = cursor.fetchone()\n",
    "\n",
    "    if result is not None:\n",
    "        set_id = result[0]\n",
    "\n",
    "        # Fetch all results from the first query to clear the unread result\n",
    "        cursor.fetchall()\n",
    "\n",
    "        # Retrieve the rarity_id from the rarity table\n",
    "        select_rarity_query = \"SELECT rarity_id FROM rarity WHERE rarity_name = %s\"\n",
    "        cursor.execute(select_rarity_query, (rarity,))\n",
    "        rarity_result = cursor.fetchone()\n",
    "\n",
    "        if rarity_result is not None:\n",
    "            rarity_id = rarity_result[0]\n",
    "\n",
    "            # Update the cards table with the set_id and rarity_id\n",
    "            update_query = \"UPDATE cards SET set_id = %s, rarity_id = %s WHERE serial_number = %s AND card_name = %s\"\n",
    "            update_values = (set_id, rarity_id, serial_number, card_name)\n",
    "            cursor.execute(update_query, update_values)\n",
    "\n",
    "# Commit the changes\n",
    "connection.commit()\n",
    "\n",
    "# Close the cursor and connection\n",
    "cursor.close()\n",
    "connection.close()\n"
   ]
  },
  {
   "cell_type": "code",
   "execution_count": 38,
   "id": "1c3a59dc",
   "metadata": {},
   "outputs": [
    {
     "data": {
      "text/plain": [
       "31"
      ]
     },
     "execution_count": 38,
     "metadata": {},
     "output_type": "execute_result"
    }
   ],
   "source": [
    "len(df['set'].unique().tolist())"
   ]
  },
  {
   "cell_type": "code",
   "execution_count": 39,
   "id": "3e7c203b",
   "metadata": {},
   "outputs": [
    {
     "data": {
      "text/html": [
       "<div>\n",
       "<style scoped>\n",
       "    .dataframe tbody tr th:only-of-type {\n",
       "        vertical-align: middle;\n",
       "    }\n",
       "\n",
       "    .dataframe tbody tr th {\n",
       "        vertical-align: top;\n",
       "    }\n",
       "\n",
       "    .dataframe thead th {\n",
       "        text-align: right;\n",
       "    }\n",
       "</style>\n",
       "<table border=\"1\" class=\"dataframe\">\n",
       "  <thead>\n",
       "    <tr style=\"text-align: right;\">\n",
       "      <th></th>\n",
       "      <th>serial_number</th>\n",
       "      <th>name</th>\n",
       "      <th>type</th>\n",
       "      <th>rarity</th>\n",
       "      <th>set</th>\n",
       "    </tr>\n",
       "  </thead>\n",
       "  <tbody>\n",
       "    <tr>\n",
       "      <th>0</th>\n",
       "      <td>1/102</td>\n",
       "      <td>Alakazam</td>\n",
       "      <td>Psychic</td>\n",
       "      <td>Rare Holo</td>\n",
       "      <td>Base Set</td>\n",
       "    </tr>\n",
       "    <tr>\n",
       "      <th>1</th>\n",
       "      <td>2/102</td>\n",
       "      <td>Blastoise</td>\n",
       "      <td>Water</td>\n",
       "      <td>Rare Holo</td>\n",
       "      <td>Base Set</td>\n",
       "    </tr>\n",
       "    <tr>\n",
       "      <th>2</th>\n",
       "      <td>3/102</td>\n",
       "      <td>Chansey</td>\n",
       "      <td>Colorless</td>\n",
       "      <td>Rare Holo</td>\n",
       "      <td>Base Set</td>\n",
       "    </tr>\n",
       "    <tr>\n",
       "      <th>3</th>\n",
       "      <td>4/102</td>\n",
       "      <td>Charizard</td>\n",
       "      <td>Fire</td>\n",
       "      <td>Rare Holo</td>\n",
       "      <td>Base Set</td>\n",
       "    </tr>\n",
       "    <tr>\n",
       "      <th>4</th>\n",
       "      <td>5/102</td>\n",
       "      <td>Clefairy</td>\n",
       "      <td>Colorless</td>\n",
       "      <td>Rare Holo</td>\n",
       "      <td>Base Set</td>\n",
       "    </tr>\n",
       "    <tr>\n",
       "      <th>...</th>\n",
       "      <td>...</td>\n",
       "      <td>...</td>\n",
       "      <td>...</td>\n",
       "      <td>...</td>\n",
       "      <td>...</td>\n",
       "    </tr>\n",
       "    <tr>\n",
       "      <th>3462</th>\n",
       "      <td>146/147</td>\n",
       "      <td>Rayquaza</td>\n",
       "      <td>Colorless</td>\n",
       "      <td>NaN</td>\n",
       "      <td>Supreme Victors</td>\n",
       "    </tr>\n",
       "    <tr>\n",
       "      <th>3463</th>\n",
       "      <td>147/147</td>\n",
       "      <td>Staraptor</td>\n",
       "      <td>Colorless</td>\n",
       "      <td>NaN</td>\n",
       "      <td>Supreme Victors</td>\n",
       "    </tr>\n",
       "    <tr>\n",
       "      <th>3464</th>\n",
       "      <td>148/147</td>\n",
       "      <td>Articuno</td>\n",
       "      <td>Water</td>\n",
       "      <td>NaN</td>\n",
       "      <td>Supreme Victors</td>\n",
       "    </tr>\n",
       "    <tr>\n",
       "      <th>3465</th>\n",
       "      <td>149/147</td>\n",
       "      <td>Moltres</td>\n",
       "      <td>Fire</td>\n",
       "      <td>NaN</td>\n",
       "      <td>Supreme Victors</td>\n",
       "    </tr>\n",
       "    <tr>\n",
       "      <th>3466</th>\n",
       "      <td>150/147</td>\n",
       "      <td>Zapdos</td>\n",
       "      <td>Lightning</td>\n",
       "      <td>NaN</td>\n",
       "      <td>Supreme Victors</td>\n",
       "    </tr>\n",
       "  </tbody>\n",
       "</table>\n",
       "<p>3467 rows × 5 columns</p>\n",
       "</div>"
      ],
      "text/plain": [
       "     serial_number       name       type     rarity              set\n",
       "0            1/102   Alakazam    Psychic  Rare Holo         Base Set\n",
       "1            2/102  Blastoise      Water  Rare Holo         Base Set\n",
       "2            3/102    Chansey  Colorless  Rare Holo         Base Set\n",
       "3            4/102  Charizard       Fire  Rare Holo         Base Set\n",
       "4            5/102   Clefairy  Colorless  Rare Holo         Base Set\n",
       "...            ...        ...        ...        ...              ...\n",
       "3462       146/147   Rayquaza  Colorless        NaN  Supreme Victors\n",
       "3463       147/147  Staraptor  Colorless        NaN  Supreme Victors\n",
       "3464       148/147   Articuno      Water        NaN  Supreme Victors\n",
       "3465       149/147    Moltres       Fire        NaN  Supreme Victors\n",
       "3466       150/147     Zapdos  Lightning        NaN  Supreme Victors\n",
       "\n",
       "[3467 rows x 5 columns]"
      ]
     },
     "execution_count": 39,
     "metadata": {},
     "output_type": "execute_result"
    }
   ],
   "source": []
  },
  {
   "cell_type": "code",
   "execution_count": null,
   "id": "1e63bb58",
   "metadata": {},
   "outputs": [],
   "source": []
  }
 ],
 "metadata": {
  "kernelspec": {
   "display_name": "Python 3 (ipykernel)",
   "language": "python",
   "name": "python3"
  },
  "language_info": {
   "codemirror_mode": {
    "name": "ipython",
    "version": 3
   },
   "file_extension": ".py",
   "mimetype": "text/x-python",
   "name": "python",
   "nbconvert_exporter": "python",
   "pygments_lexer": "ipython3",
   "version": "3.9.13"
  }
 },
 "nbformat": 4,
 "nbformat_minor": 5
}
