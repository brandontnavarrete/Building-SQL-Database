{
 "cells": [
  {
   "cell_type": "markdown",
   "id": "2849451d",
   "metadata": {},
   "source": [
    "\n",
    "[Dependencies](#dependencies)\n",
    "\n",
    "[Imports](#imports)\n",
    "\n",
    "[Using Selenium](#selenium)\n",
    "\n",
    "[Serial Number](#serial)\n",
    "\n",
    "[Card Name](#names)\n",
    "\n",
    "[Energy Type](#types)\n",
    "\n",
    "[Card Rarity](#rarity)\n",
    "\n",
    "[Creating A Dataframe](#dataframe)\n",
    "\n",
    "\n",
    "\n",
    "\n"
   ]
  },
  {
   "cell_type": "markdown",
   "id": "dcc4c051",
   "metadata": {},
   "source": [
    "## <a id='dependencies'></a># Dependencies \n"
   ]
  },
  {
   "cell_type": "code",
   "execution_count": 4,
   "id": "082fefdb",
   "metadata": {},
   "outputs": [
    {
     "name": "stdout",
     "output_type": "stream",
     "text": [
      "Requirement already satisfied: mysql-connector-python in /usr/local/anaconda3/lib/python3.9/site-packages (8.0.33)\n",
      "Requirement already satisfied: protobuf<=3.20.3,>=3.11.0 in /usr/local/anaconda3/lib/python3.9/site-packages (from mysql-connector-python) (3.20.3)\n",
      "Note: you may need to restart the kernel to use updated packages.\n"
     ]
    }
   ],
   "source": [
    "pip install mysql-connector-python"
   ]
  },
  {
   "cell_type": "markdown",
   "id": "44b8a340",
   "metadata": {},
   "source": [
    "## <a id='imports'></a># Imports"
   ]
  },
  {
   "cell_type": "code",
   "execution_count": 5,
   "id": "4da5700a",
   "metadata": {},
   "outputs": [],
   "source": [
    "import pandas as pd \n",
    "import numpy as np "
   ]
  },
  {
   "cell_type": "markdown",
   "id": "27b2718e",
   "metadata": {},
   "source": [
    "## <a id='selenium'></a># Using Selenium Scrape Page\n"
   ]
  },
  {
   "cell_type": "code",
   "execution_count": 3,
   "id": "30d62d0f",
   "metadata": {},
   "outputs": [
    {
     "name": "stdout",
     "output_type": "stream",
     "text": [
      "         No.    Card name     Type     Rarity\n",
      "0      1/100      Banette  Psychic  Rare Holo\n",
      "1      2/100  Blastoise δ  Psychic  Rare Holo\n",
      "2      3/100     Camerupt  Psychic  Rare Holo\n",
      "3      4/100  Charizard δ  Psychic  Rare Holo\n",
      "4      5/100      Dugtrio  Psychic  Rare Holo\n",
      "..       ...          ...      ...        ...\n",
      "96    97/100   Shiftry ex  Psychic  Rare Holo\n",
      "97    98/100  Swampert ex  Psychic  Rare Holo\n",
      "98    99/100     Alakazam  Psychic  Rare Holo\n",
      "99   100/100       Celebi  Psychic  Rare Holo\n",
      "100      NaN          NaN  Psychic  Rare Holo\n",
      "\n",
      "[101 rows x 4 columns]\n"
     ]
    }
   ],
   "source": [
    "from selenium import webdriver\n",
    "from selenium.webdriver.chrome.service import Service\n",
    "from selenium.webdriver.common.by import By\n",
    "from selenium.webdriver.chrome.options import Options\n",
    "a\n",
    "# Set up Chrome options\n",
    "chrome_options = Options()\n",
    "chrome_options.add_argument(\"--headless\")  # Run Chrome in headless mode\n",
    "\n",
    "# Set up Chrome driver service\n",
    "service = Service('/path/to/chromedriver')  # Replace with the actual path to chromedriver\n",
    "\n",
    "# Start the Chrome webdriver\n",
    "driver = webdriver.Chrome(service=service, options=chrome_options)\n",
    "\n",
    "# Load the webpage\n",
    "driver.get('https://bulbapedia.bulbagarden.net/wiki/EX_Crystal_Guardians_(TCG)#Set_lists')  # Replace with the actual URL of the webpage\n",
    "\n",
    "# Wait for the page to load (you may need to adjust the waiting time depending on the page)\n",
    "driver.implicitly_wait(10)  # Wait for 10 seconds\n",
    "\n",
    "# Find the table element using the updated XPath\n",
    "table_element = driver.find_element(By.XPATH, '//*[@id=\"mw-content-text\"]/div/table[4]/tbody/tr/td[1]/table/tbody/tr[2]/td/table')\n",
    "\n",
    "# Extract the \"No.\", card name, type, and rarity\n",
    "no_element = table_element.find_element(By.XPATH, './/tbody/tr[2]/td[1]')\n",
    "card_name_element = table_element.find_element(By.XPATH, './/tbody/tr[2]/td[3]/a')\n",
    "card_type_elements = table_element.find_elements(By.XPATH, './/tbody/tr[2]/th/a/img')\n",
    "card_rarity_element = table_element.find_element(By.XPATH, './/tbody/tr[2]/td[4]/a/img')\n",
    "\n",
    "# Get the text content from the elements\n",
    "card_no = no_element.text\n",
    "card_name = card_name_element.text\n",
    "card_types = [element.get_attribute('alt') for element in card_type_elements]\n",
    "card_rarity = card_rarity_element.get_attribute('alt')\n",
    "\n",
    "# Get the tables from the webpage using pd.read_html\n",
    "tables = pd.read_html(driver.page_source)\n",
    "\n",
    "# Assuming the table you want to update is the first table on the page\n",
    "table = tables[14]\n",
    "\n",
    "# Add the type and rarity to the respective row in the table\n",
    "table['Type'] = ', '.join(card_types)\n",
    "table['Rarity'] = card_rarity\n",
    "\n",
    "# Print the updated table\n",
    "print(table)\n",
    "\n",
    "# Close the Chrome webdriver\n",
    "driver.quit()\n"
   ]
  },
  {
   "cell_type": "markdown",
   "id": "4d4bffa0",
   "metadata": {},
   "source": [
    "<div class=\"alert alert-block alert-info\">\n",
    "<b>INFO:</b> \n",
    "    \n",
    "* The method above did not work. The type and rarity were repeated but along with those issues, the trainer cards were also giving me some issue.  \n",
    "   \n",
    "* The next attempt is to turn it into soup and explore the html.  \n",
    "    </div>"
   ]
  },
  {
   "cell_type": "code",
   "execution_count": 6,
   "id": "ea06d5a9",
   "metadata": {},
   "outputs": [],
   "source": [
    "# create the soup\n",
    "\n",
    "from selenium import webdriver\n",
    "from selenium.webdriver.chrome.service import Service\n",
    "from selenium.webdriver.common.by import By\n",
    "from selenium.webdriver.chrome.options import Options\n",
    "from bs4 import BeautifulSoup\n",
    "\n",
    "# Set up Chrome options\n",
    "chrome_options = Options()\n",
    "chrome_options.add_argument(\"--headless\")  # Run Chrome in headless mode\n",
    "\n",
    "# Set up Chrome driver service\n",
    "service = Service('/path/to/chromedriver')  # Replace with the actual path to chromedriver\n",
    "\n",
    "# Start the Chrome webdriver\n",
    "driver = webdriver.Chrome(service=service, options=chrome_options)\n",
    "\n",
    "# Load the webpage\n",
    "driver.get('https://bulbapedia.bulbagarden.net/wiki/EX_Crystal_Guardians_(TCG)#Set_lists')  # Replace with the actual URL of the webpage\n",
    "\n",
    "# Wait for the page to load (you may need to adjust the waiting time depending on the page)\n",
    "driver.implicitly_wait(10)  # Wait for 10 seconds\n",
    "\n",
    "# Find the table element using the XPath\n",
    "table_element = driver.find_element(By.XPATH, '//*[@id=\"mw-content-text\"]/div/table[4]/tbody/tr/td[1]/table/tbody/tr[2]/td/table')\n",
    "\n",
    "# Get the HTML source of the table element\n",
    "table_html = table_element.get_attribute('innerHTML')\n",
    "\n",
    "# Create a BeautifulSoup object from the HTML source\n",
    "soup = BeautifulSoup(table_html, 'html.parser')\n",
    "\n",
    "# You can now use the 'soup' object to parse and extract data from the table\n",
    "\n",
    "# Close the Chrome webdriver\n",
    "driver.quit()\n"
   ]
  },
  {
   "cell_type": "markdown",
   "id": "46e55bd2",
   "metadata": {},
   "source": [
    "# Delete"
   ]
  },
  {
   "cell_type": "markdown",
   "id": "d96c866c",
   "metadata": {},
   "source": [
    "<div class=\"alert alert-block alert-info\">\n",
    "<b>BELOW:</b> \n",
    "* This method below was some practice attempt.\n",
    "    </div>"
   ]
  },
  {
   "cell_type": "code",
   "execution_count": 240,
   "id": "03a66cd5",
   "metadata": {},
   "outputs": [],
   "source": [
    "# create the soup\n",
    "\n",
    "from selenium import webdriver\n",
    "from selenium.webdriver.chrome.service import Service\n",
    "from selenium.webdriver.common.by import By\n",
    "from selenium.webdriver.chrome.options import Options\n",
    "from bs4 import BeautifulSoup\n",
    "\n",
    "# Set up Chrome options\n",
    "chrome_options = Options()\n",
    "chrome_options.add_argument(\"--headless\")  # Run Chrome in headless mode\n",
    "\n",
    "# Set up Chrome driver service\n",
    "service = Service('/path/to/chromedriver')  # Replace with the actual path to chromedriver\n",
    "\n",
    "# Start the Chrome webdriver\n",
    "driver = webdriver.Chrome(service=service, options=chrome_options)\n",
    "\n",
    "# Load the webpage\n",
    "driver.get('https://bulbapedia.bulbagarden.net/wiki/EX_Crystal_Guardians_(TCG)#Set_lists')  # Replace with the actual URL of the webpage\n",
    "\n",
    "# Wait for the page to load (you may need to adjust the waiting time depending on the page)\n",
    "driver.implicitly_wait(10)  # Wait for 10 seconds\n",
    "\n",
    "# Find the table element using the XPath\n",
    "table_element = driver.find_element(By.XPATH, '//*[@id=\"mw-content-text\"]/div/table[4]/tbody/tr/td[1]/table')\n",
    "\n",
    "# Get the HTML source of the table element\n",
    "table_html = table_element.get_attribute('innerHTML')\n",
    "\n",
    "# Create a BeautifulSoup object from the HTML source\n",
    "soup = BeautifulSoup(table_html, 'html.parser')\n",
    "\n",
    "# You can now use the 'soup' object to parse and extract data from the table\n",
    "\n",
    "# Close the Chrome webdriver\n",
    "driver.quit()\n"
   ]
  },
  {
   "cell_type": "markdown",
   "id": "4b151592",
   "metadata": {},
   "source": [
    "# Delete"
   ]
  },
  {
   "cell_type": "markdown",
   "id": "d4695455",
   "metadata": {},
   "source": [
    "## <a id='serial'></a># Serial Numbers"
   ]
  },
  {
   "cell_type": "code",
   "execution_count": 7,
   "id": "e9225591",
   "metadata": {},
   "outputs": [],
   "source": [
    "# <td align=\"center\" style=\"background:#FFFFFF\">2/102\n",
    "#soup.find_all('td', attrs={'align': 'center', 'style': 'background:#FFFFFF'})"
   ]
  },
  {
   "cell_type": "code",
   "execution_count": 8,
   "id": "67b18a17",
   "metadata": {},
   "outputs": [],
   "source": [
    "# create a list of the serial numbers in a given expansion and set"
   ]
  },
  {
   "cell_type": "code",
   "execution_count": 9,
   "id": "d21840ca",
   "metadata": {},
   "outputs": [],
   "source": [
    "numbers = soup.find_all('td', attrs={'align': 'center', 'style': 'background:#FFFFFF'})"
   ]
  },
  {
   "cell_type": "code",
   "execution_count": 10,
   "id": "a30de3c8",
   "metadata": {},
   "outputs": [],
   "source": [
    "import re\n",
    "\n",
    "numbers_filtered = [num.text.strip() for num in numbers if re.match(r\".*\\d+/\\d+$\", num.text.strip())]"
   ]
  },
  {
   "cell_type": "code",
   "execution_count": 11,
   "id": "4b4a40b3",
   "metadata": {
    "scrolled": true
   },
   "outputs": [
    {
     "data": {
      "text/plain": [
       "['1/100', '2/100', '3/100', '4/100', '5/100']"
      ]
     },
     "execution_count": 11,
     "metadata": {},
     "output_type": "execute_result"
    }
   ],
   "source": [
    "numbers_filtered[:5] # these are the first 5 serial #'s"
   ]
  },
  {
   "cell_type": "code",
   "execution_count": 12,
   "id": "ba8655ab",
   "metadata": {},
   "outputs": [
    {
     "data": {
      "text/plain": [
       "100"
      ]
     },
     "execution_count": 12,
     "metadata": {},
     "output_type": "execute_result"
    }
   ],
   "source": [
    "len(numbers_filtered)"
   ]
  },
  {
   "cell_type": "markdown",
   "id": "7bba8428",
   "metadata": {},
   "source": [
    "## <a id='names'></a># Card Names"
   ]
  },
  {
   "cell_type": "code",
   "execution_count": 13,
   "id": "af8c06b8",
   "metadata": {},
   "outputs": [],
   "source": [
    "# the method to find names through html"
   ]
  },
  {
   "cell_type": "code",
   "execution_count": 14,
   "id": "ff99cf4e",
   "metadata": {},
   "outputs": [],
   "source": [
    "# find all html that holds card names\n",
    "items = soup.find_all('td', attrs={'style': 'background:#FFFFFF'})\n",
    "# create an empty list\n",
    "cardNames = []\n",
    "#\n",
    "for item in items:\n",
    "    # avoiding useless html\n",
    "    if item.find('a') and '/100' not in item.text:\n",
    "        # strip the text to find root name\n",
    "        card_name = item.find('a').text.strip()\n",
    "        # add to list\n",
    "        cardNames.append(card_name)\n",
    "\n",
    "# filter out the list by booleans, if x is not a space then true; KEEP    \n",
    "cardNames = list(filter(lambda x: x != '', cardNames))    "
   ]
  },
  {
   "cell_type": "code",
   "execution_count": 22,
   "id": "7e3e9f18",
   "metadata": {},
   "outputs": [
    {
     "data": {
      "text/plain": [
       "100"
      ]
     },
     "execution_count": 22,
     "metadata": {},
     "output_type": "execute_result"
    }
   ],
   "source": [
    "len(cardNames)"
   ]
  },
  {
   "cell_type": "markdown",
   "id": "30cc6925",
   "metadata": {},
   "source": [
    "## <a id='types'></a># Types"
   ]
  },
  {
   "cell_type": "code",
   "execution_count": 23,
   "id": "e08a2414",
   "metadata": {},
   "outputs": [],
   "source": [
    "types = soup.find_all('th', attrs={'align': 'center'})"
   ]
  },
  {
   "cell_type": "raw",
   "id": "4b43ff14",
   "metadata": {},
   "source": [
    "<div class=\"alert alert-block alert-danger\">\n",
    "<b>Issue:</b> \n",
    "There are two different html to look through. Examples:\n",
    "    \n",
    "#<th align=\"center\" style=\"background:#FFFFFF;\"><a href=\"/wiki/Psychic_Energy_(TCG)\" title=\"Psychic\"><img alt=\"Psychic\" decoding=\"async\" height=\"20\" loading=\"lazy\" src=\"//archives.bulbagarden.net/media/upload/thumb/e/ef/Psychic-attack.png/20px-Psychic-attack.png\" srcset=\"//archives.bulbagarden.net/media/upload/thumb/e/ef/Psychic-attack.png/30px-Psychic-attack.png 1.5x, //archives.bulbagarden.net/media/upload/e/ef/Psychic-attack.png 2x\" width=\"20\"/></a> </th>\n",
    "\n",
    " * One pokemon may have up to two types\n",
    "\n",
    "#<th align=\"center\" style=\"background:#FFE955;\">T<small> [Su]</small>\n",
    "</th>\n",
    "    \n",
    "</div>"
   ]
  },
  {
   "cell_type": "code",
   "execution_count": 25,
   "id": "cf69f73a",
   "metadata": {},
   "outputs": [],
   "source": [
    "import re\n",
    "\n",
    "pTypes = []\n",
    "pattern = r'^[A-Z]'\n",
    "\n",
    "for i, html in enumerate(types):\n",
    "    # Determine the appropriate extraction method based on a condition\n",
    "    html1 = html.text\n",
    "    \n",
    "    if re.search(pattern, str(html1)):\n",
    "        # Extract method 1\n",
    "        title = str(html1).strip()\n",
    "        pTypes.append(title)\n",
    "    \n",
    "    else:\n",
    "        # Ensure there are at least two 'a' tags for energy titles\n",
    "        a_tags = html.find_all('a')\n",
    "        num_a_tags = len(a_tags)\n",
    "        \n",
    "        if num_a_tags >= 2:\n",
    "            type1 = a_tags[0]\n",
    "            title1 = type1['title']\n",
    "            \n",
    "            type2 = a_tags[1]\n",
    "            title2 = type2['title']\n",
    "            \n",
    "            pTypes.append([title1, title2])  # Append a list of two types to the main list\n",
    "        elif num_a_tags == 1:\n",
    "            a_tag = a_tags[0]\n",
    "            title = a_tag['title']\n",
    "            \n",
    "            pTypes.append(title)  # Append single type to the main list\n",
    "        else:\n",
    "            print(f\"Error: Insufficient 'a' tags for element {i}\")"
   ]
  },
  {
   "cell_type": "code",
   "execution_count": 26,
   "id": "2f03a14d",
   "metadata": {},
   "outputs": [
    {
     "data": {
      "text/plain": [
       "100"
      ]
     },
     "execution_count": 26,
     "metadata": {},
     "output_type": "execute_result"
    }
   ],
   "source": [
    "len(pTypes)"
   ]
  },
  {
   "cell_type": "code",
   "execution_count": 27,
   "id": "40163e80",
   "metadata": {},
   "outputs": [
    {
     "data": {
      "text/plain": [
       "'pTypes = []\\n\\nfor i in range(len(types)):\\n    html = types[i]\\n    \\n    if 70 <= i <= 86:\\n        # Extract the energy title from the HTML\\n        title = html.text.strip()\\n        pTypes.append(title)  # Append HTML text to the main list\\n    \\n    else:\\n        # Ensure there are at least two \\'a\\' tags for energy titles\\n        a_tags = html.find_all(\\'a\\')\\n        num_a_tags = len(a_tags)\\n        \\n        if num_a_tags >= 2:\\n            type1 = a_tags[0]\\n            title1 = type1[\\'title\\']\\n            \\n            type2 = a_tags[1]\\n            title2 = type2[\\'title\\']\\n            \\n            pTypes.append([title1, title2])  # Append a list of two types to the main list\\n        elif num_a_tags == 1:\\n            a_tag = a_tags[0]\\n            title = a_tag[\\'title\\']\\n            \\n            pTypes.append(title)  # Append single type to the main list\\n        else:\\n            print(f\"Error: Insufficient \\'a\\' tags for element {i}\")\\n'"
      ]
     },
     "execution_count": 27,
     "metadata": {},
     "output_type": "execute_result"
    }
   ],
   "source": [
    "'''pTypes = []\n",
    "\n",
    "for i in range(len(types)):\n",
    "    html = types[i]\n",
    "    \n",
    "    if 70 <= i <= 86:\n",
    "        # Extract the energy title from the HTML\n",
    "        title = html.text.strip()\n",
    "        pTypes.append(title)  # Append HTML text to the main list\n",
    "    \n",
    "    else:\n",
    "        # Ensure there are at least two 'a' tags for energy titles\n",
    "        a_tags = html.find_all('a')\n",
    "        num_a_tags = len(a_tags)\n",
    "        \n",
    "        if num_a_tags >= 2:\n",
    "            type1 = a_tags[0]\n",
    "            title1 = type1['title']\n",
    "            \n",
    "            type2 = a_tags[1]\n",
    "            title2 = type2['title']\n",
    "            \n",
    "            pTypes.append([title1, title2])  # Append a list of two types to the main list\n",
    "        elif num_a_tags == 1:\n",
    "            a_tag = a_tags[0]\n",
    "            title = a_tag['title']\n",
    "            \n",
    "            pTypes.append(title)  # Append single type to the main list\n",
    "        else:\n",
    "            print(f\"Error: Insufficient 'a' tags for element {i}\")\n",
    "'''"
   ]
  },
  {
   "cell_type": "code",
   "execution_count": 28,
   "id": "f3faf0ae",
   "metadata": {},
   "outputs": [
    {
     "data": {
      "text/plain": [
       "'# find the serial numbers from a table / html\\n# ------------------------------------------------------\\nnumbers = soup.find_all(\\'td\\', attrs={\\'align\\': \\'center\\', \\'style\\': \\'background:#FFFFFF\\'})\\nnumbers_filtered = [num.text.strip() for num in numbers if num.text.strip().endswith(\"/100\")]\\n\\n\\n\\n# find card names through html\\n# find all html that holds card names\\n# ------------------------------------------------------\\n\\nitems = soup.find_all(\\'td\\', attrs={\\'style\\': \\'background:#FFFFFF\\'})\\n# create an empty list\\ncardNames = []\\n#\\nfor item in items:\\n    # avoiding useless html\\n    if item.find(\\'a\\') and \\'/100\\' not in item.text:\\n        # strip the text to find root name\\n        card_name = item.find(\\'a\\').text.strip()\\n        # add to list\\n        cardNames.append(card_name)\\n\\n# filter out the list by booleans, if x is not a space then true; KEEP    \\ncardNames = list(filter(lambda x: x != \\'\\', cardNames))  \\n\\n\\n\\n# find types\\n# ------------------------------------------------------\\ntypes = soup.find_all(\\'th\\', attrs={\\'align\\': \\'center\\'})\\n\\npTypes = []\\n\\nfor i in range(len(types)):\\n    html = types[i]\\n    \\n    if 70 <= i <= 86:\\n        # Extract the energy title from the HTML\\n        title = html.text.strip()\\n        pTypes.append(title)  # Append HTML text to the main list\\n    \\n    else:\\n        # Ensure there are at least two \\'a\\' tags for energy titles\\n        a_tags = html.find_all(\\'a\\')\\n        num_a_tags = len(a_tags)\\n        \\n        if num_a_tags >= 2:\\n            type1 = a_tags[0]\\n            title1 = type1[\\'title\\']\\n            \\n            type2 = a_tags[1]\\n            title2 = type2[\\'title\\']\\n            \\n            pTypes.append([title1, title2])  # Append a list of two types to the main list\\n        elif num_a_tags == 1:\\n            a_tag = a_tags[0]\\n            title = a_tag[\\'title\\']\\n            \\n            pTypes.append(title)  # Append single type to the main list\\n        else:\\n            print(f\"Error: Insufficient \\'a\\' tags for element {i}\")\\n\\n            \\n            \\n# Finding rarity string           \\n# ------------------------------------------------------\\n\\nimage_anchors = soup.find_all(\\'a\\', class_=\\'image\\')\\n\\nimage_anchors[1][\\'title\\']\\n\\n# Extract the title starting at index 1 and skipping every other one\\ntitles = [anchor[\\'title\\'] for anchor in image_anchors[1::2] if \\'title\\' in anchor.attrs]\\n\\npossible_titles = [\\'Rare Holo\\',\\'Rare\\',\\'Uncommon\\',\\'Common\\', \\'Rare Holo ex\\', \\'Shiny Rare\\', \\'ShinyRare Holo\\']\\n\\n# Extract the titles that match the specified values\\nRarity = []\\nfor anchor in image_anchors:\\n    title = anchor.get(\\'title\\')\\n    if title in possible_titles:\\n        Rarity.append(title)\\n'"
      ]
     },
     "execution_count": 28,
     "metadata": {},
     "output_type": "execute_result"
    }
   ],
   "source": [
    "'''# find the serial numbers from a table / html\n",
    "# ------------------------------------------------------\n",
    "numbers = soup.find_all('td', attrs={'align': 'center', 'style': 'background:#FFFFFF'})\n",
    "numbers_filtered = [num.text.strip() for num in numbers if num.text.strip().endswith(\"/100\")]\n",
    "\n",
    "\n",
    "\n",
    "# find card names through html\n",
    "# find all html that holds card names\n",
    "# ------------------------------------------------------\n",
    "\n",
    "items = soup.find_all('td', attrs={'style': 'background:#FFFFFF'})\n",
    "# create an empty list\n",
    "cardNames = []\n",
    "#\n",
    "for item in items:\n",
    "    # avoiding useless html\n",
    "    if item.find('a') and '/100' not in item.text:\n",
    "        # strip the text to find root name\n",
    "        card_name = item.find('a').text.strip()\n",
    "        # add to list\n",
    "        cardNames.append(card_name)\n",
    "\n",
    "# filter out the list by booleans, if x is not a space then true; KEEP    \n",
    "cardNames = list(filter(lambda x: x != '', cardNames))  \n",
    "\n",
    "\n",
    "\n",
    "# find types\n",
    "# ------------------------------------------------------\n",
    "types = soup.find_all('th', attrs={'align': 'center'})\n",
    "\n",
    "pTypes = []\n",
    "\n",
    "for i in range(len(types)):\n",
    "    html = types[i]\n",
    "    \n",
    "    if 70 <= i <= 86:\n",
    "        # Extract the energy title from the HTML\n",
    "        title = html.text.strip()\n",
    "        pTypes.append(title)  # Append HTML text to the main list\n",
    "    \n",
    "    else:\n",
    "        # Ensure there are at least two 'a' tags for energy titles\n",
    "        a_tags = html.find_all('a')\n",
    "        num_a_tags = len(a_tags)\n",
    "        \n",
    "        if num_a_tags >= 2:\n",
    "            type1 = a_tags[0]\n",
    "            title1 = type1['title']\n",
    "            \n",
    "            type2 = a_tags[1]\n",
    "            title2 = type2['title']\n",
    "            \n",
    "            pTypes.append([title1, title2])  # Append a list of two types to the main list\n",
    "        elif num_a_tags == 1:\n",
    "            a_tag = a_tags[0]\n",
    "            title = a_tag['title']\n",
    "            \n",
    "            pTypes.append(title)  # Append single type to the main list\n",
    "        else:\n",
    "            print(f\"Error: Insufficient 'a' tags for element {i}\")\n",
    "\n",
    "            \n",
    "            \n",
    "# Finding rarity string           \n",
    "# ------------------------------------------------------\n",
    "\n",
    "image_anchors = soup.find_all('a', class_='image')\n",
    "\n",
    "image_anchors[1]['title']\n",
    "\n",
    "# Extract the title starting at index 1 and skipping every other one\n",
    "titles = [anchor['title'] for anchor in image_anchors[1::2] if 'title' in anchor.attrs]\n",
    "\n",
    "possible_titles = ['Rare Holo','Rare','Uncommon','Common', 'Rare Holo ex', 'Shiny Rare', 'ShinyRare Holo']\n",
    "\n",
    "# Extract the titles that match the specified values\n",
    "Rarity = []\n",
    "for anchor in image_anchors:\n",
    "    title = anchor.get('title')\n",
    "    if title in possible_titles:\n",
    "        Rarity.append(title)\n",
    "'''"
   ]
  },
  {
   "cell_type": "markdown",
   "id": "8c830b9e",
   "metadata": {},
   "source": [
    "## <a id='rarity'></a># Rarity"
   ]
  },
  {
   "cell_type": "code",
   "execution_count": 29,
   "id": "409feb51",
   "metadata": {},
   "outputs": [],
   "source": [
    "image_anchors = soup.find_all('a', class_='image')\n",
    "\n",
    "image_anchors[1]['title']\n",
    "\n",
    "# Extract the title starting at index 1 and skipping every other one\n",
    "titles = [anchor['title'] for anchor in image_anchors[1::2] if 'title' in anchor.attrs]\n",
    "\n",
    "possible_titles = ['Rare Holo','Rare','Uncommon','Common', 'Rare Holo ex', 'Shiny Rare', 'ShinyRare Holo']\n",
    "\n",
    "# Extract the titles that match the specified values\n",
    "Rarity = []\n",
    "for anchor in image_anchors:\n",
    "    title = anchor.get('title')\n",
    "    if title in possible_titles:\n",
    "        Rarity.append(title)\n"
   ]
  },
  {
   "cell_type": "code",
   "execution_count": 30,
   "id": "569786a4",
   "metadata": {},
   "outputs": [
    {
     "data": {
      "text/plain": [
       "90"
      ]
     },
     "execution_count": 30,
     "metadata": {},
     "output_type": "execute_result"
    }
   ],
   "source": [
    "len(titles)"
   ]
  },
  {
   "cell_type": "code",
   "execution_count": 31,
   "id": "07de4ae5",
   "metadata": {},
   "outputs": [
    {
     "data": {
      "text/plain": [
       "['Rare Holo', 'Rare Holo', 'Rare Holo', 'Rare Holo']"
      ]
     },
     "execution_count": 31,
     "metadata": {},
     "output_type": "execute_result"
    }
   ],
   "source": [
    "Rarity[:4]"
   ]
  },
  {
   "cell_type": "markdown",
   "id": "d85aa064",
   "metadata": {},
   "source": [
    "## <a id='dataframe'></a># Creating A Dataframe"
   ]
  },
  {
   "cell_type": "markdown",
   "id": "c1dbf4f7",
   "metadata": {},
   "source": [
    "### serial num"
   ]
  },
  {
   "cell_type": "code",
   "execution_count": 32,
   "id": "81665705",
   "metadata": {},
   "outputs": [
    {
     "data": {
      "text/plain": [
       "100"
      ]
     },
     "execution_count": 32,
     "metadata": {},
     "output_type": "execute_result"
    }
   ],
   "source": [
    "len(numbers_filtered)"
   ]
  },
  {
   "cell_type": "markdown",
   "id": "1ada276b",
   "metadata": {},
   "source": [
    "### card Names"
   ]
  },
  {
   "cell_type": "code",
   "execution_count": 33,
   "id": "f07d393c",
   "metadata": {},
   "outputs": [
    {
     "data": {
      "text/plain": [
       "100"
      ]
     },
     "execution_count": 33,
     "metadata": {},
     "output_type": "execute_result"
    }
   ],
   "source": [
    "len(cardNames)"
   ]
  },
  {
   "cell_type": "markdown",
   "id": "ace6b456",
   "metadata": {},
   "source": [
    "### types"
   ]
  },
  {
   "cell_type": "code",
   "execution_count": 34,
   "id": "a64aa20a",
   "metadata": {},
   "outputs": [
    {
     "data": {
      "text/plain": [
       "100"
      ]
     },
     "execution_count": 34,
     "metadata": {},
     "output_type": "execute_result"
    }
   ],
   "source": [
    "len(pTypes)"
   ]
  },
  {
   "cell_type": "markdown",
   "id": "b5204a48",
   "metadata": {},
   "source": [
    "### rarity"
   ]
  },
  {
   "cell_type": "code",
   "execution_count": 35,
   "id": "3d393288",
   "metadata": {},
   "outputs": [
    {
     "data": {
      "text/plain": [
       "100"
      ]
     },
     "execution_count": 35,
     "metadata": {},
     "output_type": "execute_result"
    }
   ],
   "source": [
    "len(Rarity)"
   ]
  },
  {
   "cell_type": "code",
   "execution_count": 36,
   "id": "97b1f1fb",
   "metadata": {
    "scrolled": true
   },
   "outputs": [
    {
     "data": {
      "text/plain": [
       "(['1/100',\n",
       "  '2/100',\n",
       "  '3/100',\n",
       "  '4/100',\n",
       "  '5/100',\n",
       "  '6/100',\n",
       "  '7/100',\n",
       "  '8/100',\n",
       "  '9/100',\n",
       "  '10/100',\n",
       "  '11/100',\n",
       "  '12/100',\n",
       "  '13/100',\n",
       "  '14/100',\n",
       "  '15/100',\n",
       "  '16/100',\n",
       "  '17/100',\n",
       "  '18/100',\n",
       "  '19/100',\n",
       "  '20/100',\n",
       "  '21/100',\n",
       "  '22/100',\n",
       "  '23/100',\n",
       "  '24/100',\n",
       "  '25/100',\n",
       "  '26/100',\n",
       "  '27/100',\n",
       "  '28/100',\n",
       "  '29/100',\n",
       "  '30/100',\n",
       "  '31/100',\n",
       "  '32/100',\n",
       "  '33/100',\n",
       "  '34/100',\n",
       "  '35/100',\n",
       "  '36/100',\n",
       "  '37/100',\n",
       "  '38/100',\n",
       "  '39/100',\n",
       "  '40/100',\n",
       "  '41/100',\n",
       "  '42/100',\n",
       "  '43/100',\n",
       "  '44/100',\n",
       "  '45/100',\n",
       "  '46/100',\n",
       "  '47/100',\n",
       "  '48/100',\n",
       "  '49/100',\n",
       "  '50/100',\n",
       "  '51/100',\n",
       "  '52/100',\n",
       "  '53/100',\n",
       "  '54/100',\n",
       "  '55/100',\n",
       "  '56/100',\n",
       "  '57/100',\n",
       "  '58/100',\n",
       "  '59/100',\n",
       "  '60/100',\n",
       "  '61/100',\n",
       "  '62/100',\n",
       "  '63/100',\n",
       "  '64/100',\n",
       "  '65/100',\n",
       "  '66/100',\n",
       "  '67/100',\n",
       "  '68/100',\n",
       "  '69/100',\n",
       "  '70/100',\n",
       "  '71/100',\n",
       "  '72/100',\n",
       "  '73/100',\n",
       "  '74/100',\n",
       "  '75/100',\n",
       "  '76/100',\n",
       "  '77/100',\n",
       "  '78/100',\n",
       "  '79/100',\n",
       "  '80/100',\n",
       "  '81/100',\n",
       "  '82/100',\n",
       "  '83/100',\n",
       "  '84/100',\n",
       "  '85/100',\n",
       "  '86/100',\n",
       "  '87/100',\n",
       "  '88/100',\n",
       "  '89/100',\n",
       "  '90/100',\n",
       "  '91/100',\n",
       "  '92/100',\n",
       "  '93/100',\n",
       "  '94/100',\n",
       "  '95/100',\n",
       "  '96/100',\n",
       "  '97/100',\n",
       "  '98/100',\n",
       "  '99/100',\n",
       "  '100/100'],\n",
       " ['Banette',\n",
       "  'Blastoise δ',\n",
       "  'Camerupt',\n",
       "  'Charizard δ',\n",
       "  'Dugtrio',\n",
       "  'Ludicolo δ',\n",
       "  'Luvdisc',\n",
       "  'Manectric',\n",
       "  'Mawile',\n",
       "  'Sableye',\n",
       "  'Swalot',\n",
       "  'Tauros',\n",
       "  'Wigglytuff',\n",
       "  'Blastoise',\n",
       "  'Cacturne δ',\n",
       "  'Combusken',\n",
       "  'Dusclops',\n",
       "  'Fearow δ',\n",
       "  'Grovyle δ',\n",
       "  'Grumpig',\n",
       "  'Igglybuff',\n",
       "  'Kingler δ',\n",
       "  'Loudred',\n",
       "  'Marshtomp',\n",
       "  'Medicham',\n",
       "  'Pelipper δ',\n",
       "  'Swampert',\n",
       "  'Venusaur',\n",
       "  'Charmeleon',\n",
       "  'Charmeleon δ',\n",
       "  'Combusken',\n",
       "  'Grovyle',\n",
       "  'Gulpin',\n",
       "  'Ivysaur',\n",
       "  'Ivysaur',\n",
       "  'Lairon',\n",
       "  'Lombre',\n",
       "  'Marshtomp',\n",
       "  'Nuzleaf',\n",
       "  'Shuppet',\n",
       "  'Skitty',\n",
       "  'Wartortle',\n",
       "  'Wartortle',\n",
       "  'Aron',\n",
       "  'Bulbasaur',\n",
       "  'Bulbasaur',\n",
       "  'Cacnea',\n",
       "  'Charmander',\n",
       "  'Charmander δ',\n",
       "  'Diglett',\n",
       "  'Duskull',\n",
       "  'Electrike',\n",
       "  'Jigglypuff',\n",
       "  'Krabby',\n",
       "  'Lotad',\n",
       "  'Meditite',\n",
       "  'Mudkip',\n",
       "  'Mudkip',\n",
       "  'Numel',\n",
       "  'Seedot',\n",
       "  'Spearow',\n",
       "  'Spoink',\n",
       "  'Squirtle',\n",
       "  'Squirtle',\n",
       "  'Torchic',\n",
       "  'Torchic',\n",
       "  'Treecko',\n",
       "  'Treecko δ',\n",
       "  'Whismur',\n",
       "  'Wingull',\n",
       "  \"Bill's Maintenance\",\n",
       "  'Castaway',\n",
       "  \"Celio's Network\",\n",
       "  'Cessation Crystal',\n",
       "  'Crystal Beach',\n",
       "  'Crystal Shard',\n",
       "  'Double Full Heal',\n",
       "  'Dual Ball',\n",
       "  'Holon Circle',\n",
       "  'Memory Berry',\n",
       "  'Mysterious Shard',\n",
       "  'Poké Ball',\n",
       "  'PokéNav',\n",
       "  'Warp Point',\n",
       "  'Windstorm',\n",
       "  'Energy Search',\n",
       "  'Potion',\n",
       "  'Double Rainbow Energy',\n",
       "  'Aggron ex',\n",
       "  'Blaziken ex',\n",
       "  'Delcatty ex',\n",
       "  'Exploud ex',\n",
       "  'Groudon ex',\n",
       "  'Jirachi ex',\n",
       "  'Kyogre ex',\n",
       "  'Sceptile ex δ',\n",
       "  'Shiftry ex',\n",
       "  'Swampert ex',\n",
       "  'Alakazam',\n",
       "  'Celebi'],\n",
       " ['Psychic',\n",
       "  ['Fighting', 'Metal'],\n",
       "  'Fire',\n",
       "  ['Lightning', 'Metal'],\n",
       "  'Fighting',\n",
       "  'Fire',\n",
       "  'Water',\n",
       "  'Lightning',\n",
       "  'Metal',\n",
       "  'Darkness',\n",
       "  'Grass',\n",
       "  'Colorless',\n",
       "  'Colorless',\n",
       "  'Water',\n",
       "  'Fighting',\n",
       "  'Fighting',\n",
       "  'Psychic',\n",
       "  'Lightning',\n",
       "  'Psychic',\n",
       "  'Psychic',\n",
       "  'Colorless',\n",
       "  ['Fire', 'Metal'],\n",
       "  'Colorless',\n",
       "  'Water',\n",
       "  'Fighting',\n",
       "  'Lightning',\n",
       "  'Fighting',\n",
       "  'Grass',\n",
       "  'Fire',\n",
       "  'Lightning',\n",
       "  'Fire',\n",
       "  'Grass',\n",
       "  'Grass',\n",
       "  'Grass',\n",
       "  'Grass',\n",
       "  'Metal',\n",
       "  'Water',\n",
       "  'Fighting',\n",
       "  'Darkness',\n",
       "  'Psychic',\n",
       "  'Colorless',\n",
       "  'Water',\n",
       "  'Water',\n",
       "  'Metal',\n",
       "  'Grass',\n",
       "  'Grass',\n",
       "  'Grass',\n",
       "  'Fire',\n",
       "  'Lightning',\n",
       "  'Fighting',\n",
       "  'Psychic',\n",
       "  'Lightning',\n",
       "  'Colorless',\n",
       "  'Water',\n",
       "  'Water',\n",
       "  'Fighting',\n",
       "  'Water',\n",
       "  'Water',\n",
       "  'Fire',\n",
       "  'Grass',\n",
       "  'Colorless',\n",
       "  'Psychic',\n",
       "  'Water',\n",
       "  'Water',\n",
       "  'Fire',\n",
       "  'Fire',\n",
       "  'Grass',\n",
       "  'Psychic',\n",
       "  'Colorless',\n",
       "  'Water',\n",
       "  'T [Su]',\n",
       "  'T [Su]',\n",
       "  'T [Su]',\n",
       "  'T [Tool]',\n",
       "  'T [St]',\n",
       "  'T [Tool]',\n",
       "  'T',\n",
       "  'T',\n",
       "  'T [St]',\n",
       "  'T [Tool]',\n",
       "  'T [Tool]',\n",
       "  'T',\n",
       "  'T',\n",
       "  'T',\n",
       "  'T',\n",
       "  'T',\n",
       "  'T',\n",
       "  'Rainbow',\n",
       "  'Metal',\n",
       "  'Fighting',\n",
       "  'Colorless',\n",
       "  'Colorless',\n",
       "  'Fighting',\n",
       "  'Psychic',\n",
       "  'Water',\n",
       "  'Psychic',\n",
       "  'Darkness',\n",
       "  'Water',\n",
       "  'Psychic',\n",
       "  'Grass'],\n",
       " ['Rare Holo',\n",
       "  'Rare Holo',\n",
       "  'Rare Holo',\n",
       "  'Rare Holo',\n",
       "  'Rare Holo',\n",
       "  'Rare Holo',\n",
       "  'Rare Holo',\n",
       "  'Rare Holo',\n",
       "  'Rare Holo',\n",
       "  'Rare Holo',\n",
       "  'Rare Holo',\n",
       "  'Rare Holo',\n",
       "  'Rare Holo',\n",
       "  'Rare',\n",
       "  'Rare',\n",
       "  'Rare',\n",
       "  'Rare',\n",
       "  'Rare',\n",
       "  'Rare',\n",
       "  'Rare',\n",
       "  'Rare',\n",
       "  'Rare',\n",
       "  'Rare',\n",
       "  'Rare',\n",
       "  'Rare',\n",
       "  'Rare',\n",
       "  'Rare',\n",
       "  'Rare',\n",
       "  'Uncommon',\n",
       "  'Uncommon',\n",
       "  'Uncommon',\n",
       "  'Uncommon',\n",
       "  'Uncommon',\n",
       "  'Uncommon',\n",
       "  'Uncommon',\n",
       "  'Uncommon',\n",
       "  'Uncommon',\n",
       "  'Uncommon',\n",
       "  'Uncommon',\n",
       "  'Uncommon',\n",
       "  'Uncommon',\n",
       "  'Uncommon',\n",
       "  'Uncommon',\n",
       "  'Common',\n",
       "  'Common',\n",
       "  'Common',\n",
       "  'Common',\n",
       "  'Common',\n",
       "  'Common',\n",
       "  'Common',\n",
       "  'Common',\n",
       "  'Common',\n",
       "  'Common',\n",
       "  'Common',\n",
       "  'Common',\n",
       "  'Common',\n",
       "  'Common',\n",
       "  'Common',\n",
       "  'Common',\n",
       "  'Common',\n",
       "  'Common',\n",
       "  'Common',\n",
       "  'Common',\n",
       "  'Common',\n",
       "  'Common',\n",
       "  'Common',\n",
       "  'Common',\n",
       "  'Common',\n",
       "  'Common',\n",
       "  'Common',\n",
       "  'Uncommon',\n",
       "  'Uncommon',\n",
       "  'Uncommon',\n",
       "  'Uncommon',\n",
       "  'Uncommon',\n",
       "  'Uncommon',\n",
       "  'Uncommon',\n",
       "  'Uncommon',\n",
       "  'Uncommon',\n",
       "  'Uncommon',\n",
       "  'Uncommon',\n",
       "  'Uncommon',\n",
       "  'Uncommon',\n",
       "  'Uncommon',\n",
       "  'Uncommon',\n",
       "  'Common',\n",
       "  'Common',\n",
       "  'Rare',\n",
       "  'Rare Holo ex',\n",
       "  'Rare Holo ex',\n",
       "  'Rare Holo ex',\n",
       "  'Rare Holo ex',\n",
       "  'Rare Holo ex',\n",
       "  'Rare Holo ex',\n",
       "  'Rare Holo ex',\n",
       "  'Rare Holo ex',\n",
       "  'Rare Holo ex',\n",
       "  'Rare Holo ex',\n",
       "  'ShinyRare Holo',\n",
       "  'ShinyRare Holo'])"
      ]
     },
     "execution_count": 36,
     "metadata": {},
     "output_type": "execute_result"
    }
   ],
   "source": [
    "numbers_filtered, cardNames, pTypes,Rarity"
   ]
  },
  {
   "cell_type": "markdown",
   "id": "5132d825",
   "metadata": {},
   "source": [
    "# List Lenght Fix"
   ]
  },
  {
   "cell_type": "code",
   "execution_count": 37,
   "id": "27b72414",
   "metadata": {},
   "outputs": [],
   "source": [
    "if len(Rarity) < len(numbers_filtered):\n",
    "    diff = len(numbers_filtered) - len(Rarity)\n",
    "    Rarity.extend(['NULL'] * diff)"
   ]
  },
  {
   "cell_type": "code",
   "execution_count": 38,
   "id": "1ca85767",
   "metadata": {},
   "outputs": [],
   "source": [
    "data = {'serial_number': numbers_filtered,\n",
    "        'name': cardNames,\n",
    "        'type': pTypes,\n",
    "        'rarity':Rarity}"
   ]
  },
  {
   "cell_type": "code",
   "execution_count": 39,
   "id": "e906da15",
   "metadata": {},
   "outputs": [],
   "source": [
    "cards = pd.DataFrame(data)"
   ]
  },
  {
   "cell_type": "code",
   "execution_count": 40,
   "id": "569c5ad8",
   "metadata": {},
   "outputs": [],
   "source": [
    "# programatically set name."
   ]
  },
  {
   "cell_type": "code",
   "execution_count": 41,
   "id": "d2ff6bf6",
   "metadata": {},
   "outputs": [],
   "source": [
    "string = 'https://bulbapedia.bulbagarden.net/wiki/Base_Set_(TCG)#Set_lists'\n",
    "\n",
    "match = re.search(r'\\/([^\\/]+)\\(TCG\\)', string)\n",
    "if match:\n",
    "    extracted_string = match.group(1).replace('_', ' ')\n",
    "    \n"
   ]
  },
  {
   "cell_type": "code",
   "execution_count": 42,
   "id": "b2331761",
   "metadata": {},
   "outputs": [],
   "source": [
    "cards['set'] = extracted_string"
   ]
  },
  {
   "cell_type": "code",
   "execution_count": 43,
   "id": "b5c5ded0",
   "metadata": {},
   "outputs": [
    {
     "data": {
      "text/html": [
       "<div>\n",
       "<style scoped>\n",
       "    .dataframe tbody tr th:only-of-type {\n",
       "        vertical-align: middle;\n",
       "    }\n",
       "\n",
       "    .dataframe tbody tr th {\n",
       "        vertical-align: top;\n",
       "    }\n",
       "\n",
       "    .dataframe thead th {\n",
       "        text-align: right;\n",
       "    }\n",
       "</style>\n",
       "<table border=\"1\" class=\"dataframe\">\n",
       "  <thead>\n",
       "    <tr style=\"text-align: right;\">\n",
       "      <th></th>\n",
       "      <th>serial_number</th>\n",
       "      <th>name</th>\n",
       "      <th>type</th>\n",
       "      <th>rarity</th>\n",
       "      <th>set</th>\n",
       "    </tr>\n",
       "  </thead>\n",
       "  <tbody>\n",
       "    <tr>\n",
       "      <th>0</th>\n",
       "      <td>1/100</td>\n",
       "      <td>Banette</td>\n",
       "      <td>Psychic</td>\n",
       "      <td>Rare Holo</td>\n",
       "      <td>Base Set</td>\n",
       "    </tr>\n",
       "    <tr>\n",
       "      <th>1</th>\n",
       "      <td>2/100</td>\n",
       "      <td>Blastoise δ</td>\n",
       "      <td>[Fighting, Metal]</td>\n",
       "      <td>Rare Holo</td>\n",
       "      <td>Base Set</td>\n",
       "    </tr>\n",
       "    <tr>\n",
       "      <th>2</th>\n",
       "      <td>3/100</td>\n",
       "      <td>Camerupt</td>\n",
       "      <td>Fire</td>\n",
       "      <td>Rare Holo</td>\n",
       "      <td>Base Set</td>\n",
       "    </tr>\n",
       "    <tr>\n",
       "      <th>3</th>\n",
       "      <td>4/100</td>\n",
       "      <td>Charizard δ</td>\n",
       "      <td>[Lightning, Metal]</td>\n",
       "      <td>Rare Holo</td>\n",
       "      <td>Base Set</td>\n",
       "    </tr>\n",
       "    <tr>\n",
       "      <th>4</th>\n",
       "      <td>5/100</td>\n",
       "      <td>Dugtrio</td>\n",
       "      <td>Fighting</td>\n",
       "      <td>Rare Holo</td>\n",
       "      <td>Base Set</td>\n",
       "    </tr>\n",
       "    <tr>\n",
       "      <th>...</th>\n",
       "      <td>...</td>\n",
       "      <td>...</td>\n",
       "      <td>...</td>\n",
       "      <td>...</td>\n",
       "      <td>...</td>\n",
       "    </tr>\n",
       "    <tr>\n",
       "      <th>95</th>\n",
       "      <td>96/100</td>\n",
       "      <td>Sceptile ex δ</td>\n",
       "      <td>Psychic</td>\n",
       "      <td>Rare Holo ex</td>\n",
       "      <td>Base Set</td>\n",
       "    </tr>\n",
       "    <tr>\n",
       "      <th>96</th>\n",
       "      <td>97/100</td>\n",
       "      <td>Shiftry ex</td>\n",
       "      <td>Darkness</td>\n",
       "      <td>Rare Holo ex</td>\n",
       "      <td>Base Set</td>\n",
       "    </tr>\n",
       "    <tr>\n",
       "      <th>97</th>\n",
       "      <td>98/100</td>\n",
       "      <td>Swampert ex</td>\n",
       "      <td>Water</td>\n",
       "      <td>Rare Holo ex</td>\n",
       "      <td>Base Set</td>\n",
       "    </tr>\n",
       "    <tr>\n",
       "      <th>98</th>\n",
       "      <td>99/100</td>\n",
       "      <td>Alakazam</td>\n",
       "      <td>Psychic</td>\n",
       "      <td>ShinyRare Holo</td>\n",
       "      <td>Base Set</td>\n",
       "    </tr>\n",
       "    <tr>\n",
       "      <th>99</th>\n",
       "      <td>100/100</td>\n",
       "      <td>Celebi</td>\n",
       "      <td>Grass</td>\n",
       "      <td>ShinyRare Holo</td>\n",
       "      <td>Base Set</td>\n",
       "    </tr>\n",
       "  </tbody>\n",
       "</table>\n",
       "<p>100 rows × 5 columns</p>\n",
       "</div>"
      ],
      "text/plain": [
       "   serial_number           name                type          rarity        set\n",
       "0          1/100        Banette             Psychic       Rare Holo  Base Set \n",
       "1          2/100    Blastoise δ   [Fighting, Metal]       Rare Holo  Base Set \n",
       "2          3/100       Camerupt                Fire       Rare Holo  Base Set \n",
       "3          4/100    Charizard δ  [Lightning, Metal]       Rare Holo  Base Set \n",
       "4          5/100        Dugtrio            Fighting       Rare Holo  Base Set \n",
       "..           ...            ...                 ...             ...        ...\n",
       "95        96/100  Sceptile ex δ             Psychic    Rare Holo ex  Base Set \n",
       "96        97/100     Shiftry ex            Darkness    Rare Holo ex  Base Set \n",
       "97        98/100    Swampert ex               Water    Rare Holo ex  Base Set \n",
       "98        99/100       Alakazam             Psychic  ShinyRare Holo  Base Set \n",
       "99       100/100         Celebi               Grass  ShinyRare Holo  Base Set \n",
       "\n",
       "[100 rows x 5 columns]"
      ]
     },
     "execution_count": 43,
     "metadata": {},
     "output_type": "execute_result"
    }
   ],
   "source": [
    "cards"
   ]
  },
  {
   "cell_type": "markdown",
   "id": "8d4b9b7e",
   "metadata": {},
   "source": [
    "<div class=\"alert alert-block alert-success\">\n",
    "<b>DONE:</b> \n",
    "    \n",
    "* This successfully shows that a dataframe with meaningful conversation can be created programmatically.\n",
    "\n",
    "    </div>"
   ]
  },
  {
   "cell_type": "code",
   "execution_count": null,
   "id": "bbb9524c",
   "metadata": {},
   "outputs": [],
   "source": []
  }
 ],
 "metadata": {
  "kernelspec": {
   "display_name": "Python 3 (ipykernel)",
   "language": "python",
   "name": "python3"
  },
  "language_info": {
   "codemirror_mode": {
    "name": "ipython",
    "version": 3
   },
   "file_extension": ".py",
   "mimetype": "text/x-python",
   "name": "python",
   "nbconvert_exporter": "python",
   "pygments_lexer": "ipython3",
   "version": "3.9.13"
  }
 },
 "nbformat": 4,
 "nbformat_minor": 5
}
